{
 "cells": [
  {
   "cell_type": "code",
   "execution_count": 37,
   "metadata": {
    "id": "od_hmHDHTIVE"
   },
   "outputs": [],
   "source": [
    "import numpy as np \n",
    "import pandas as pd \n",
    "import matplotlib.pyplot as plt\n",
    "import seaborn as sns \n",
    "from sklearn.preprocessing import LabelEncoder\n",
    "from statsmodels.stats.outliers_influence import variance_inflation_factor\n",
    "from sklearn.model_selection import train_test_split\n",
    "from sklearn.linear_model import LogisticRegression\n",
    "from sklearn.metrics import accuracy_score, confusion_matrix, classification_report\n",
    "from sklearn.model_selection import GridSearchCV\n",
    "from sklearn import tree\n",
    "from sklearn.ensemble import RandomForestClassifier\n",
    "\n",
    "\n",
    "\n",
    "import warnings\n",
    "warnings.filterwarnings('ignore')"
   ]
  },
  {
   "cell_type": "code",
   "execution_count": 38,
   "metadata": {
    "id": "Nkyaqg-3TdW6"
   },
   "outputs": [],
   "source": [
    "data = pd.read_csv(\"ChurnModeling.csv\")"
   ]
  },
  {
   "cell_type": "code",
   "execution_count": 39,
   "metadata": {
    "colab": {
     "base_uri": "https://localhost:8080/",
     "height": 268
    },
    "id": "HAzzyBh2TfGK",
    "outputId": "f0dc5bc8-9bd0-49bb-fd23-7783327b806c"
   },
   "outputs": [
    {
     "data": {
      "text/html": [
       "<div>\n",
       "<style scoped>\n",
       "    .dataframe tbody tr th:only-of-type {\n",
       "        vertical-align: middle;\n",
       "    }\n",
       "\n",
       "    .dataframe tbody tr th {\n",
       "        vertical-align: top;\n",
       "    }\n",
       "\n",
       "    .dataframe thead th {\n",
       "        text-align: right;\n",
       "    }\n",
       "</style>\n",
       "<table border=\"1\" class=\"dataframe\">\n",
       "  <thead>\n",
       "    <tr style=\"text-align: right;\">\n",
       "      <th></th>\n",
       "      <th>RowNumber</th>\n",
       "      <th>CustomerId</th>\n",
       "      <th>Surname</th>\n",
       "      <th>CreditScore</th>\n",
       "      <th>Geography</th>\n",
       "      <th>Gender</th>\n",
       "      <th>Age</th>\n",
       "      <th>Tenure</th>\n",
       "      <th>Balance</th>\n",
       "      <th>NumOfProducts</th>\n",
       "      <th>HasCrCard</th>\n",
       "      <th>IsActiveMember</th>\n",
       "      <th>EstimatedSalary</th>\n",
       "      <th>Exited</th>\n",
       "    </tr>\n",
       "  </thead>\n",
       "  <tbody>\n",
       "    <tr>\n",
       "      <th>0</th>\n",
       "      <td>1</td>\n",
       "      <td>15634602</td>\n",
       "      <td>Hargrave</td>\n",
       "      <td>619</td>\n",
       "      <td>France</td>\n",
       "      <td>Female</td>\n",
       "      <td>42</td>\n",
       "      <td>2</td>\n",
       "      <td>0.00</td>\n",
       "      <td>1</td>\n",
       "      <td>1</td>\n",
       "      <td>1</td>\n",
       "      <td>101348.88</td>\n",
       "      <td>1</td>\n",
       "    </tr>\n",
       "    <tr>\n",
       "      <th>1</th>\n",
       "      <td>2</td>\n",
       "      <td>15647311</td>\n",
       "      <td>Hill</td>\n",
       "      <td>608</td>\n",
       "      <td>Spain</td>\n",
       "      <td>Female</td>\n",
       "      <td>41</td>\n",
       "      <td>1</td>\n",
       "      <td>83807.86</td>\n",
       "      <td>1</td>\n",
       "      <td>0</td>\n",
       "      <td>1</td>\n",
       "      <td>112542.58</td>\n",
       "      <td>0</td>\n",
       "    </tr>\n",
       "    <tr>\n",
       "      <th>2</th>\n",
       "      <td>3</td>\n",
       "      <td>15619304</td>\n",
       "      <td>Onio</td>\n",
       "      <td>502</td>\n",
       "      <td>France</td>\n",
       "      <td>Female</td>\n",
       "      <td>42</td>\n",
       "      <td>8</td>\n",
       "      <td>159660.80</td>\n",
       "      <td>3</td>\n",
       "      <td>1</td>\n",
       "      <td>0</td>\n",
       "      <td>113931.57</td>\n",
       "      <td>1</td>\n",
       "    </tr>\n",
       "    <tr>\n",
       "      <th>3</th>\n",
       "      <td>4</td>\n",
       "      <td>15701354</td>\n",
       "      <td>Boni</td>\n",
       "      <td>699</td>\n",
       "      <td>France</td>\n",
       "      <td>Female</td>\n",
       "      <td>39</td>\n",
       "      <td>1</td>\n",
       "      <td>0.00</td>\n",
       "      <td>2</td>\n",
       "      <td>0</td>\n",
       "      <td>0</td>\n",
       "      <td>93826.63</td>\n",
       "      <td>0</td>\n",
       "    </tr>\n",
       "    <tr>\n",
       "      <th>4</th>\n",
       "      <td>5</td>\n",
       "      <td>15737888</td>\n",
       "      <td>Mitchell</td>\n",
       "      <td>850</td>\n",
       "      <td>Spain</td>\n",
       "      <td>Female</td>\n",
       "      <td>43</td>\n",
       "      <td>2</td>\n",
       "      <td>125510.82</td>\n",
       "      <td>1</td>\n",
       "      <td>1</td>\n",
       "      <td>1</td>\n",
       "      <td>79084.10</td>\n",
       "      <td>0</td>\n",
       "    </tr>\n",
       "  </tbody>\n",
       "</table>\n",
       "</div>"
      ],
      "text/plain": [
       "   RowNumber  CustomerId   Surname  CreditScore Geography  Gender  Age  \\\n",
       "0          1    15634602  Hargrave          619    France  Female   42   \n",
       "1          2    15647311      Hill          608     Spain  Female   41   \n",
       "2          3    15619304      Onio          502    France  Female   42   \n",
       "3          4    15701354      Boni          699    France  Female   39   \n",
       "4          5    15737888  Mitchell          850     Spain  Female   43   \n",
       "\n",
       "   Tenure    Balance  NumOfProducts  HasCrCard  IsActiveMember  \\\n",
       "0       2       0.00              1          1               1   \n",
       "1       1   83807.86              1          0               1   \n",
       "2       8  159660.80              3          1               0   \n",
       "3       1       0.00              2          0               0   \n",
       "4       2  125510.82              1          1               1   \n",
       "\n",
       "   EstimatedSalary  Exited  \n",
       "0        101348.88       1  \n",
       "1        112542.58       0  \n",
       "2        113931.57       1  \n",
       "3         93826.63       0  \n",
       "4         79084.10       0  "
      ]
     },
     "execution_count": 39,
     "metadata": {},
     "output_type": "execute_result"
    }
   ],
   "source": [
    "data.head(5)"
   ]
  },
  {
   "cell_type": "code",
   "execution_count": 40,
   "metadata": {
    "colab": {
     "base_uri": "https://localhost:8080/"
    },
    "id": "_vgfa3hATjVE",
    "outputId": "9ab9c85f-04a0-4ae8-da7f-0a387c3f30e6"
   },
   "outputs": [
    {
     "data": {
      "text/plain": [
       "(10000, 14)"
      ]
     },
     "execution_count": 40,
     "metadata": {},
     "output_type": "execute_result"
    }
   ],
   "source": [
    "data.shape"
   ]
  },
  {
   "cell_type": "code",
   "execution_count": 41,
   "metadata": {
    "colab": {
     "base_uri": "https://localhost:8080/"
    },
    "id": "w_cEzz1dTmdh",
    "outputId": "7f27e74d-fa1f-4bc6-94db-63f5301b2bc6"
   },
   "outputs": [
    {
     "name": "stdout",
     "output_type": "stream",
     "text": [
      "<class 'pandas.core.frame.DataFrame'>\n",
      "RangeIndex: 10000 entries, 0 to 9999\n",
      "Data columns (total 14 columns):\n",
      " #   Column           Non-Null Count  Dtype  \n",
      "---  ------           --------------  -----  \n",
      " 0   RowNumber        10000 non-null  int64  \n",
      " 1   CustomerId       10000 non-null  int64  \n",
      " 2   Surname          10000 non-null  object \n",
      " 3   CreditScore      10000 non-null  int64  \n",
      " 4   Geography        10000 non-null  object \n",
      " 5   Gender           10000 non-null  object \n",
      " 6   Age              10000 non-null  int64  \n",
      " 7   Tenure           10000 non-null  int64  \n",
      " 8   Balance          10000 non-null  float64\n",
      " 9   NumOfProducts    10000 non-null  int64  \n",
      " 10  HasCrCard        10000 non-null  int64  \n",
      " 11  IsActiveMember   10000 non-null  int64  \n",
      " 12  EstimatedSalary  10000 non-null  float64\n",
      " 13  Exited           10000 non-null  int64  \n",
      "dtypes: float64(2), int64(9), object(3)\n",
      "memory usage: 1.1+ MB\n"
     ]
    }
   ],
   "source": [
    "data.info()"
   ]
  },
  {
   "cell_type": "code",
   "execution_count": 42,
   "metadata": {
    "colab": {
     "base_uri": "https://localhost:8080/",
     "height": 390
    },
    "id": "jzWCHWphTo6f",
    "outputId": "af13cb1a-14ab-448e-82e7-3eb557e7aa93"
   },
   "outputs": [
    {
     "data": {
      "text/html": [
       "<div>\n",
       "<style scoped>\n",
       "    .dataframe tbody tr th:only-of-type {\n",
       "        vertical-align: middle;\n",
       "    }\n",
       "\n",
       "    .dataframe tbody tr th {\n",
       "        vertical-align: top;\n",
       "    }\n",
       "\n",
       "    .dataframe thead th {\n",
       "        text-align: right;\n",
       "    }\n",
       "</style>\n",
       "<table border=\"1\" class=\"dataframe\">\n",
       "  <thead>\n",
       "    <tr style=\"text-align: right;\">\n",
       "      <th></th>\n",
       "      <th>count</th>\n",
       "      <th>mean</th>\n",
       "      <th>std</th>\n",
       "      <th>min</th>\n",
       "      <th>25%</th>\n",
       "      <th>50%</th>\n",
       "      <th>75%</th>\n",
       "      <th>max</th>\n",
       "    </tr>\n",
       "  </thead>\n",
       "  <tbody>\n",
       "    <tr>\n",
       "      <th>RowNumber</th>\n",
       "      <td>10000.0</td>\n",
       "      <td>5.000500e+03</td>\n",
       "      <td>2886.895680</td>\n",
       "      <td>1.00</td>\n",
       "      <td>2500.75</td>\n",
       "      <td>5.000500e+03</td>\n",
       "      <td>7.500250e+03</td>\n",
       "      <td>10000.00</td>\n",
       "    </tr>\n",
       "    <tr>\n",
       "      <th>CustomerId</th>\n",
       "      <td>10000.0</td>\n",
       "      <td>1.569094e+07</td>\n",
       "      <td>71936.186123</td>\n",
       "      <td>15565701.00</td>\n",
       "      <td>15628528.25</td>\n",
       "      <td>1.569074e+07</td>\n",
       "      <td>1.575323e+07</td>\n",
       "      <td>15815690.00</td>\n",
       "    </tr>\n",
       "    <tr>\n",
       "      <th>CreditScore</th>\n",
       "      <td>10000.0</td>\n",
       "      <td>6.505288e+02</td>\n",
       "      <td>96.653299</td>\n",
       "      <td>350.00</td>\n",
       "      <td>584.00</td>\n",
       "      <td>6.520000e+02</td>\n",
       "      <td>7.180000e+02</td>\n",
       "      <td>850.00</td>\n",
       "    </tr>\n",
       "    <tr>\n",
       "      <th>Age</th>\n",
       "      <td>10000.0</td>\n",
       "      <td>3.892180e+01</td>\n",
       "      <td>10.487806</td>\n",
       "      <td>18.00</td>\n",
       "      <td>32.00</td>\n",
       "      <td>3.700000e+01</td>\n",
       "      <td>4.400000e+01</td>\n",
       "      <td>92.00</td>\n",
       "    </tr>\n",
       "    <tr>\n",
       "      <th>Tenure</th>\n",
       "      <td>10000.0</td>\n",
       "      <td>5.012800e+00</td>\n",
       "      <td>2.892174</td>\n",
       "      <td>0.00</td>\n",
       "      <td>3.00</td>\n",
       "      <td>5.000000e+00</td>\n",
       "      <td>7.000000e+00</td>\n",
       "      <td>10.00</td>\n",
       "    </tr>\n",
       "    <tr>\n",
       "      <th>Balance</th>\n",
       "      <td>10000.0</td>\n",
       "      <td>7.648589e+04</td>\n",
       "      <td>62397.405202</td>\n",
       "      <td>0.00</td>\n",
       "      <td>0.00</td>\n",
       "      <td>9.719854e+04</td>\n",
       "      <td>1.276442e+05</td>\n",
       "      <td>250898.09</td>\n",
       "    </tr>\n",
       "    <tr>\n",
       "      <th>NumOfProducts</th>\n",
       "      <td>10000.0</td>\n",
       "      <td>1.530200e+00</td>\n",
       "      <td>0.581654</td>\n",
       "      <td>1.00</td>\n",
       "      <td>1.00</td>\n",
       "      <td>1.000000e+00</td>\n",
       "      <td>2.000000e+00</td>\n",
       "      <td>4.00</td>\n",
       "    </tr>\n",
       "    <tr>\n",
       "      <th>HasCrCard</th>\n",
       "      <td>10000.0</td>\n",
       "      <td>7.055000e-01</td>\n",
       "      <td>0.455840</td>\n",
       "      <td>0.00</td>\n",
       "      <td>0.00</td>\n",
       "      <td>1.000000e+00</td>\n",
       "      <td>1.000000e+00</td>\n",
       "      <td>1.00</td>\n",
       "    </tr>\n",
       "    <tr>\n",
       "      <th>IsActiveMember</th>\n",
       "      <td>10000.0</td>\n",
       "      <td>5.151000e-01</td>\n",
       "      <td>0.499797</td>\n",
       "      <td>0.00</td>\n",
       "      <td>0.00</td>\n",
       "      <td>1.000000e+00</td>\n",
       "      <td>1.000000e+00</td>\n",
       "      <td>1.00</td>\n",
       "    </tr>\n",
       "    <tr>\n",
       "      <th>EstimatedSalary</th>\n",
       "      <td>10000.0</td>\n",
       "      <td>1.000902e+05</td>\n",
       "      <td>57510.492818</td>\n",
       "      <td>11.58</td>\n",
       "      <td>51002.11</td>\n",
       "      <td>1.001939e+05</td>\n",
       "      <td>1.493882e+05</td>\n",
       "      <td>199992.48</td>\n",
       "    </tr>\n",
       "    <tr>\n",
       "      <th>Exited</th>\n",
       "      <td>10000.0</td>\n",
       "      <td>2.037000e-01</td>\n",
       "      <td>0.402769</td>\n",
       "      <td>0.00</td>\n",
       "      <td>0.00</td>\n",
       "      <td>0.000000e+00</td>\n",
       "      <td>0.000000e+00</td>\n",
       "      <td>1.00</td>\n",
       "    </tr>\n",
       "  </tbody>\n",
       "</table>\n",
       "</div>"
      ],
      "text/plain": [
       "                   count          mean           std          min  \\\n",
       "RowNumber        10000.0  5.000500e+03   2886.895680         1.00   \n",
       "CustomerId       10000.0  1.569094e+07  71936.186123  15565701.00   \n",
       "CreditScore      10000.0  6.505288e+02     96.653299       350.00   \n",
       "Age              10000.0  3.892180e+01     10.487806        18.00   \n",
       "Tenure           10000.0  5.012800e+00      2.892174         0.00   \n",
       "Balance          10000.0  7.648589e+04  62397.405202         0.00   \n",
       "NumOfProducts    10000.0  1.530200e+00      0.581654         1.00   \n",
       "HasCrCard        10000.0  7.055000e-01      0.455840         0.00   \n",
       "IsActiveMember   10000.0  5.151000e-01      0.499797         0.00   \n",
       "EstimatedSalary  10000.0  1.000902e+05  57510.492818        11.58   \n",
       "Exited           10000.0  2.037000e-01      0.402769         0.00   \n",
       "\n",
       "                         25%           50%           75%          max  \n",
       "RowNumber            2500.75  5.000500e+03  7.500250e+03     10000.00  \n",
       "CustomerId       15628528.25  1.569074e+07  1.575323e+07  15815690.00  \n",
       "CreditScore           584.00  6.520000e+02  7.180000e+02       850.00  \n",
       "Age                    32.00  3.700000e+01  4.400000e+01        92.00  \n",
       "Tenure                  3.00  5.000000e+00  7.000000e+00        10.00  \n",
       "Balance                 0.00  9.719854e+04  1.276442e+05    250898.09  \n",
       "NumOfProducts           1.00  1.000000e+00  2.000000e+00         4.00  \n",
       "HasCrCard               0.00  1.000000e+00  1.000000e+00         1.00  \n",
       "IsActiveMember          0.00  1.000000e+00  1.000000e+00         1.00  \n",
       "EstimatedSalary     51002.11  1.001939e+05  1.493882e+05    199992.48  \n",
       "Exited                  0.00  0.000000e+00  0.000000e+00         1.00  "
      ]
     },
     "execution_count": 42,
     "metadata": {},
     "output_type": "execute_result"
    }
   ],
   "source": [
    "data.describe().T"
   ]
  },
  {
   "cell_type": "code",
   "execution_count": 43,
   "metadata": {
    "colab": {
     "base_uri": "https://localhost:8080/"
    },
    "id": "-yUFCEFVTtB9",
    "outputId": "7525e958-4ebc-4323-c89c-c36c34697eac"
   },
   "outputs": [
    {
     "data": {
      "text/plain": [
       "RowNumber          0\n",
       "CustomerId         0\n",
       "Surname            0\n",
       "CreditScore        0\n",
       "Geography          0\n",
       "Gender             0\n",
       "Age                0\n",
       "Tenure             0\n",
       "Balance            0\n",
       "NumOfProducts      0\n",
       "HasCrCard          0\n",
       "IsActiveMember     0\n",
       "EstimatedSalary    0\n",
       "Exited             0\n",
       "dtype: int64"
      ]
     },
     "execution_count": 43,
     "metadata": {},
     "output_type": "execute_result"
    }
   ],
   "source": [
    "data.isna().sum()"
   ]
  },
  {
   "cell_type": "code",
   "execution_count": 44,
   "metadata": {
    "id": "VuHHnzpaU_vo"
   },
   "outputs": [],
   "source": [
    "data.drop([\"RowNumber\",\"CustomerId\",\"Surname\"], axis=1,inplace=True)"
   ]
  },
  {
   "cell_type": "code",
   "execution_count": 45,
   "metadata": {
    "colab": {
     "base_uri": "https://localhost:8080/"
    },
    "id": "p3eVQ0HhVXqg",
    "outputId": "bc78e23a-09c0-4449-d479-359fa2ef3fde"
   },
   "outputs": [
    {
     "data": {
      "text/plain": [
       "(10000, 11)"
      ]
     },
     "execution_count": 45,
     "metadata": {},
     "output_type": "execute_result"
    }
   ],
   "source": [
    "data.shape"
   ]
  },
  {
   "cell_type": "markdown",
   "metadata": {
    "id": "Bwth8UL2XAKO"
   },
   "source": [
    "Changing the categorical varibale into numerical varibale with\n",
    " Label Encoder"
   ]
  },
  {
   "cell_type": "code",
   "execution_count": 46,
   "metadata": {
    "colab": {
     "base_uri": "https://localhost:8080/",
     "height": 359
    },
    "id": "7rLgaVbYWMKH",
    "outputId": "a0e4e3c1-6d6c-4f2d-a3e4-93c41168c541"
   },
   "outputs": [
    {
     "data": {
      "text/html": [
       "<div>\n",
       "<style scoped>\n",
       "    .dataframe tbody tr th:only-of-type {\n",
       "        vertical-align: middle;\n",
       "    }\n",
       "\n",
       "    .dataframe tbody tr th {\n",
       "        vertical-align: top;\n",
       "    }\n",
       "\n",
       "    .dataframe thead th {\n",
       "        text-align: right;\n",
       "    }\n",
       "</style>\n",
       "<table border=\"1\" class=\"dataframe\">\n",
       "  <thead>\n",
       "    <tr style=\"text-align: right;\">\n",
       "      <th></th>\n",
       "      <th>CreditScore</th>\n",
       "      <th>Geography</th>\n",
       "      <th>Gender</th>\n",
       "      <th>Age</th>\n",
       "      <th>Tenure</th>\n",
       "      <th>Balance</th>\n",
       "      <th>NumOfProducts</th>\n",
       "      <th>HasCrCard</th>\n",
       "      <th>IsActiveMember</th>\n",
       "      <th>EstimatedSalary</th>\n",
       "      <th>Exited</th>\n",
       "    </tr>\n",
       "  </thead>\n",
       "  <tbody>\n",
       "    <tr>\n",
       "      <th>0</th>\n",
       "      <td>619</td>\n",
       "      <td>0</td>\n",
       "      <td>0</td>\n",
       "      <td>42</td>\n",
       "      <td>2</td>\n",
       "      <td>0.00</td>\n",
       "      <td>1</td>\n",
       "      <td>1</td>\n",
       "      <td>1</td>\n",
       "      <td>101348.88</td>\n",
       "      <td>1</td>\n",
       "    </tr>\n",
       "    <tr>\n",
       "      <th>1</th>\n",
       "      <td>608</td>\n",
       "      <td>2</td>\n",
       "      <td>0</td>\n",
       "      <td>41</td>\n",
       "      <td>1</td>\n",
       "      <td>83807.86</td>\n",
       "      <td>1</td>\n",
       "      <td>0</td>\n",
       "      <td>1</td>\n",
       "      <td>112542.58</td>\n",
       "      <td>0</td>\n",
       "    </tr>\n",
       "    <tr>\n",
       "      <th>2</th>\n",
       "      <td>502</td>\n",
       "      <td>0</td>\n",
       "      <td>0</td>\n",
       "      <td>42</td>\n",
       "      <td>8</td>\n",
       "      <td>159660.80</td>\n",
       "      <td>3</td>\n",
       "      <td>1</td>\n",
       "      <td>0</td>\n",
       "      <td>113931.57</td>\n",
       "      <td>1</td>\n",
       "    </tr>\n",
       "    <tr>\n",
       "      <th>3</th>\n",
       "      <td>699</td>\n",
       "      <td>0</td>\n",
       "      <td>0</td>\n",
       "      <td>39</td>\n",
       "      <td>1</td>\n",
       "      <td>0.00</td>\n",
       "      <td>2</td>\n",
       "      <td>0</td>\n",
       "      <td>0</td>\n",
       "      <td>93826.63</td>\n",
       "      <td>0</td>\n",
       "    </tr>\n",
       "    <tr>\n",
       "      <th>4</th>\n",
       "      <td>850</td>\n",
       "      <td>2</td>\n",
       "      <td>0</td>\n",
       "      <td>43</td>\n",
       "      <td>2</td>\n",
       "      <td>125510.82</td>\n",
       "      <td>1</td>\n",
       "      <td>1</td>\n",
       "      <td>1</td>\n",
       "      <td>79084.10</td>\n",
       "      <td>0</td>\n",
       "    </tr>\n",
       "    <tr>\n",
       "      <th>5</th>\n",
       "      <td>645</td>\n",
       "      <td>2</td>\n",
       "      <td>1</td>\n",
       "      <td>44</td>\n",
       "      <td>8</td>\n",
       "      <td>113755.78</td>\n",
       "      <td>2</td>\n",
       "      <td>1</td>\n",
       "      <td>0</td>\n",
       "      <td>149756.71</td>\n",
       "      <td>1</td>\n",
       "    </tr>\n",
       "    <tr>\n",
       "      <th>6</th>\n",
       "      <td>822</td>\n",
       "      <td>0</td>\n",
       "      <td>1</td>\n",
       "      <td>50</td>\n",
       "      <td>7</td>\n",
       "      <td>0.00</td>\n",
       "      <td>2</td>\n",
       "      <td>1</td>\n",
       "      <td>1</td>\n",
       "      <td>10062.80</td>\n",
       "      <td>0</td>\n",
       "    </tr>\n",
       "    <tr>\n",
       "      <th>7</th>\n",
       "      <td>376</td>\n",
       "      <td>1</td>\n",
       "      <td>0</td>\n",
       "      <td>29</td>\n",
       "      <td>4</td>\n",
       "      <td>115046.74</td>\n",
       "      <td>4</td>\n",
       "      <td>1</td>\n",
       "      <td>0</td>\n",
       "      <td>119346.88</td>\n",
       "      <td>1</td>\n",
       "    </tr>\n",
       "    <tr>\n",
       "      <th>8</th>\n",
       "      <td>501</td>\n",
       "      <td>0</td>\n",
       "      <td>1</td>\n",
       "      <td>44</td>\n",
       "      <td>4</td>\n",
       "      <td>142051.07</td>\n",
       "      <td>2</td>\n",
       "      <td>0</td>\n",
       "      <td>1</td>\n",
       "      <td>74940.50</td>\n",
       "      <td>0</td>\n",
       "    </tr>\n",
       "    <tr>\n",
       "      <th>9</th>\n",
       "      <td>684</td>\n",
       "      <td>0</td>\n",
       "      <td>1</td>\n",
       "      <td>27</td>\n",
       "      <td>2</td>\n",
       "      <td>134603.88</td>\n",
       "      <td>1</td>\n",
       "      <td>1</td>\n",
       "      <td>1</td>\n",
       "      <td>71725.73</td>\n",
       "      <td>0</td>\n",
       "    </tr>\n",
       "  </tbody>\n",
       "</table>\n",
       "</div>"
      ],
      "text/plain": [
       "   CreditScore  Geography  Gender  Age  Tenure    Balance  NumOfProducts  \\\n",
       "0          619          0       0   42       2       0.00              1   \n",
       "1          608          2       0   41       1   83807.86              1   \n",
       "2          502          0       0   42       8  159660.80              3   \n",
       "3          699          0       0   39       1       0.00              2   \n",
       "4          850          2       0   43       2  125510.82              1   \n",
       "5          645          2       1   44       8  113755.78              2   \n",
       "6          822          0       1   50       7       0.00              2   \n",
       "7          376          1       0   29       4  115046.74              4   \n",
       "8          501          0       1   44       4  142051.07              2   \n",
       "9          684          0       1   27       2  134603.88              1   \n",
       "\n",
       "   HasCrCard  IsActiveMember  EstimatedSalary  Exited  \n",
       "0          1               1        101348.88       1  \n",
       "1          0               1        112542.58       0  \n",
       "2          1               0        113931.57       1  \n",
       "3          0               0         93826.63       0  \n",
       "4          1               1         79084.10       0  \n",
       "5          1               0        149756.71       1  \n",
       "6          1               1         10062.80       0  \n",
       "7          1               0        119346.88       1  \n",
       "8          0               1         74940.50       0  \n",
       "9          1               1         71725.73       0  "
      ]
     },
     "execution_count": 46,
     "metadata": {},
     "output_type": "execute_result"
    }
   ],
   "source": [
    "encoder = LabelEncoder()\n",
    "\n",
    "for i in data.columns:\n",
    "  if data[i].dtypes == 'object':\n",
    "    data[i]= encoder.fit_transform(data[i])\n",
    "\n",
    "data.head(10)"
   ]
  },
  {
   "cell_type": "markdown",
   "metadata": {
    "id": "6Uk_8PdEW7zg"
   },
   "source": [
    "Outlier detection and Removal.\n"
   ]
  },
  {
   "cell_type": "code",
   "execution_count": 47,
   "metadata": {
    "id": "LQbHRh1JhaLR"
   },
   "outputs": [],
   "source": [
    "def out(df, column):\n",
    "    global lower,upper\n",
    "    q1 = np.quantile(df[column], 0.25)\n",
    "    q3 = np.quantile(df[column], 0.75)\n",
    "    # calculate the IQR\n",
    "    iqr = q3 - q1\n",
    "\n",
    "    lower = q1 - 1.5*iqr\n",
    "    upper = q3 + 1.5*iqr\n",
    "    \n",
    "    df1 = df[df[column] > upper]\n",
    "    df2 = df[df[column] < lower]\n",
    "\n",
    "    return  df1.shape[0]+ df2.shape[0]"
   ]
  },
  {
   "cell_type": "code",
   "execution_count": 50,
   "metadata": {
    "colab": {
     "base_uri": "https://localhost:8080/"
    },
    "id": "r41ZgHJFhyyP",
    "outputId": "970a03a3-e560-4ba6-ead2-c8a24e60d02a"
   },
   "outputs": [
    {
     "data": {
      "text/plain": [
       "{'CreditScore': 15, 'Age': 359, 'NumOfProducts': 60, 'Exited': 2037}"
      ]
     },
     "execution_count": 50,
     "metadata": {},
     "output_type": "execute_result"
    }
   ],
   "source": [
    "countOutlier={}\n",
    "outlier={}\n",
    "\n",
    "for i in data.columns:\n",
    "  if out(data,i) == 0:\n",
    "    continue\n",
    "  else:\n",
    "    countOutlier[i] = out(data,i)\n",
    "    outlier[i] ={'lower':lower,'upper':upper}\n",
    "\n",
    "\n",
    "countOutlier\n",
    "   "
   ]
  },
  {
   "cell_type": "code",
   "execution_count": 51,
   "metadata": {},
   "outputs": [
    {
     "data": {
      "text/plain": [
       "{'CreditScore': {'lower': 383.0, 'upper': 919.0},\n",
       " 'Age': {'lower': 14.0, 'upper': 62.0},\n",
       " 'NumOfProducts': {'lower': -0.5, 'upper': 3.5},\n",
       " 'Exited': {'lower': 0.0, 'upper': 0.0}}"
      ]
     },
     "execution_count": 51,
     "metadata": {},
     "output_type": "execute_result"
    }
   ],
   "source": [
    "outlier"
   ]
  },
  {
   "cell_type": "code",
   "execution_count": 52,
   "metadata": {
    "colab": {
     "base_uri": "https://localhost:8080/"
    },
    "id": "JVXgdsBji-Ty",
    "outputId": "b59fc987-21aa-4597-a3dc-7460b13c255f"
   },
   "outputs": [],
   "source": [
    "del countOutlier['Exited']\n",
    "del outlier['Exited']"
   ]
  },
  {
   "cell_type": "code",
   "execution_count": 53,
   "metadata": {
    "colab": {
     "base_uri": "https://localhost:8080/",
     "height": 296
    },
    "id": "ufwLm6eQXYdq",
    "outputId": "b6a1fcef-0177-4e0e-b30d-28a8977bc5a6"
   },
   "outputs": [
    {
     "data": {
      "text/plain": [
       "<AxesSubplot:xlabel='CreditScore'>"
      ]
     },
     "execution_count": 53,
     "metadata": {},
     "output_type": "execute_result"
    },
    {
     "data": {
      "image/png": "[encoded data removed]",
      "text/plain": [
       "<Figure size 640x480 with 1 Axes>"
      ]
     },
     "metadata": {},
     "output_type": "display_data"
    }
   ],
   "source": [
    "sns.boxplot(data.CreditScore)"
   ]
  },
  {
   "cell_type": "code",
   "execution_count": 54,
   "metadata": {
    "id": "DsWrqVzDXYbI"
   },
   "outputs": [],
   "source": [
    "creditScoreMean = data.CreditScore.mean()\n",
    "\n",
    "for i in data.index:\n",
    "  if (data.loc[i,'CreditScore']<outlier['CreditScore']['lower']) | (data.loc[i,'CreditScore']>outlier['CreditScore']['upper']):\n",
    "    data.loc[i,'CreditScore'] = creditScoreMean"
   ]
  },
  {
   "cell_type": "code",
   "execution_count": 55,
   "metadata": {
    "colab": {
     "base_uri": "https://localhost:8080/",
     "height": 296
    },
    "id": "6i3nfnjDXYY0",
    "outputId": "cb772756-93d9-4b5c-efd1-084b6543b5b3"
   },
   "outputs": [
    {
     "data": {
      "text/plain": [
       "<AxesSubplot:xlabel='CreditScore'>"
      ]
     },
     "execution_count": 55,
     "metadata": {},
     "output_type": "execute_result"
    },
    {
     "data": {
      "image/png": "[encoded data removed]",
      "text/plain": [
       "<Figure size 640x480 with 1 Axes>"
      ]
     },
     "metadata": {},
     "output_type": "display_data"
    }
   ],
   "source": [
    "sns.boxplot(data.CreditScore)"
   ]
  },
  {
   "cell_type": "code",
   "execution_count": 56,
   "metadata": {
    "colab": {
     "base_uri": "https://localhost:8080/",
     "height": 296
    },
    "id": "xZaBn9QRXYWE",
    "outputId": "dd3db63b-acdc-4edf-a631-c944deb73fda"
   },
   "outputs": [
    {
     "data": {
      "text/plain": [
       "<AxesSubplot:xlabel='Age'>"
      ]
     },
     "execution_count": 56,
     "metadata": {},
     "output_type": "execute_result"
    },
    {
     "data": {
      "image/png": "[encoded data removed]",
      "text/plain": [
       "<Figure size 640x480 with 1 Axes>"
      ]
     },
     "metadata": {},
     "output_type": "display_data"
    }
   ],
   "source": [
    "sns.boxplot(data.Age)"
   ]
  },
  {
   "cell_type": "code",
   "execution_count": 57,
   "metadata": {
    "colab": {
     "base_uri": "https://localhost:8080/",
     "height": 296
    },
    "id": "_p3u5ou-XYTc",
    "outputId": "76882656-76c4-45e5-cfeb-10bf9eabf170"
   },
   "outputs": [
    {
     "data": {
      "text/plain": [
       "<AxesSubplot:xlabel='Age'>"
      ]
     },
     "execution_count": 57,
     "metadata": {},
     "output_type": "execute_result"
    },
    {
     "data": {
      "image/png": "[encoded data removed]",
      "text/plain": [
       "<Figure size 640x480 with 1 Axes>"
      ]
     },
     "metadata": {},
     "output_type": "display_data"
    }
   ],
   "source": [
    "ageMean = data.Age.mean()\n",
    "\n",
    "for i in data.index:\n",
    "  if (data.loc[i,'Age']<outlier['Age']['lower']) | (data.loc[i,'Age']>outlier['Age']['upper']):\n",
    "    data.loc[i,'Age'] = ageMean\n",
    "\n",
    "sns.boxplot(data.Age)"
   ]
  },
  {
   "cell_type": "markdown",
   "metadata": {
    "id": "ESO2i4NBWy0z"
   },
   "source": [
    "Cheking for multicollinearity in the data."
   ]
  },
  {
   "cell_type": "markdown",
   "metadata": {
    "id": "IN-gT-vSWosO"
   },
   "source": [
    "Plotting the Heat Map to check the correlation of the data."
   ]
  },
  {
   "cell_type": "code",
   "execution_count": 58,
   "metadata": {
    "colab": {
     "base_uri": "https://localhost:8080/",
     "height": 684
    },
    "id": "pKZJvSCWWzUc",
    "outputId": "faa60eaa-7f40-4df8-9468-e556972478e1"
   },
   "outputs": [
    {
     "data": {
      "text/plain": [
       "<AxesSubplot:>"
      ]
     },
     "execution_count": 58,
     "metadata": {},
     "output_type": "execute_result"
    },
    {
     "data": {
      "image/png": "[encoded data removed]",
      "text/plain": [
       "<Figure size 1500x1000 with 2 Axes>"
      ]
     },
     "metadata": {},
     "output_type": "display_data"
    }
   ],
   "source": [
    "colorMap = sns.color_palette(\"Blues\",12)\n",
    "plt.figure(figsize=(15,10))\n",
    "sns.heatmap(data.corr(), linewidth = 1 , annot = True, cmap = colorMap)"
   ]
  },
  {
   "cell_type": "markdown",
   "metadata": {
    "id": "R0PdogTQXPPL"
   },
   "source": [
    "Checking the data for imbalance."
   ]
  },
  {
   "cell_type": "code",
   "execution_count": 59,
   "metadata": {
    "colab": {
     "base_uri": "https://localhost:8080/"
    },
    "id": "D8wD06BlmTd1",
    "outputId": "7ad2325e-b9a4-41fb-9d89-7d1e2f28dad0"
   },
   "outputs": [
    {
     "data": {
      "text/plain": [
       "0    7963\n",
       "1    2037\n",
       "Name: Exited, dtype: int64"
      ]
     },
     "execution_count": 59,
     "metadata": {},
     "output_type": "execute_result"
    }
   ],
   "source": [
    "data.Exited.value_counts()"
   ]
  },
  {
   "cell_type": "markdown",
   "metadata": {
    "id": "ef8TA7wkXXvN"
   },
   "source": [
    "We can see that the data is imbalanced."
   ]
  },
  {
   "cell_type": "code",
   "execution_count": 60,
   "metadata": {
    "colab": {
     "base_uri": "https://localhost:8080/",
     "height": 513
    },
    "id": "0BX3PVbbnrTz",
    "outputId": "d47c1788-4089-4d24-fbcc-183fdc3abe2d"
   },
   "outputs": [
    {
     "data": {
      "image/png": "[encoded data removed]",
      "text/plain": [
       "<Figure size 500x500 with 1 Axes>"
      ]
     },
     "metadata": {},
     "output_type": "display_data"
    }
   ],
   "source": [
    "plt.figure(figsize=(5,5))\n",
    "sns.countplot(data.Exited)\n",
    "plt.title('Exited')\n",
    "plt.show()"
   ]
  },
  {
   "cell_type": "markdown",
   "metadata": {
    "id": "rb-GPyrrXgpd"
   },
   "source": [
    "Oversampling the data with resample method"
   ]
  },
  {
   "cell_type": "code",
   "execution_count": 61,
   "metadata": {
    "id": "UTkOHp2P1Uyc"
   },
   "outputs": [],
   "source": [
    "dataMajority = data[data.Exited==0]\n",
    "dataMinority = data[data.Exited==1]"
   ]
  },
  {
   "cell_type": "code",
   "execution_count": 62,
   "metadata": {
    "colab": {
     "base_uri": "https://localhost:8080/"
    },
    "id": "sj-6x6rk1uGz",
    "outputId": "733cf391-9d6c-4785-aaab-6e29feeaa3d4"
   },
   "outputs": [
    {
     "data": {
      "text/plain": [
       "0    7963\n",
       "1    7963\n",
       "Name: Exited, dtype: int64"
      ]
     },
     "execution_count": 62,
     "metadata": {},
     "output_type": "execute_result"
    }
   ],
   "source": [
    "from sklearn.utils import resample\n",
    "\n",
    "dataMinorityUpsampled = resample(dataMinority,  replace=True, n_samples=len(dataMajority), random_state=42)\n",
    "\n",
    "dataUpsampled = pd.concat([dataMajority, dataMinorityUpsampled])\n",
    "\n",
    "dataUpsampled.Exited.value_counts()"
   ]
  },
  {
   "cell_type": "code",
   "execution_count": 63,
   "metadata": {
    "colab": {
     "base_uri": "https://localhost:8080/",
     "height": 350
    },
    "id": "wlh_bkNi2mY6",
    "outputId": "0416fa03-fdb1-42e5-aa6f-6f5154f27167"
   },
   "outputs": [
    {
     "data": {
      "image/png": "[encoded data removed]",
      "text/plain": [
       "<Figure size 500x500 with 1 Axes>"
      ]
     },
     "metadata": {},
     "output_type": "display_data"
    }
   ],
   "source": [
    "plt.figure(figsize=(5,5))\n",
    "sns.countplot(dataUpsampled.Exited)\n",
    "plt.title('Exited')\n",
    "plt.show()"
   ]
  },
  {
   "cell_type": "code",
   "execution_count": 64,
   "metadata": {
    "colab": {
     "base_uri": "https://localhost:8080/",
     "height": 419
    },
    "id": "AkU7Ltq02pFa",
    "outputId": "5e8b621c-9835-4e18-f6c3-8bd7ccf37c6f"
   },
   "outputs": [
    {
     "data": {
      "text/html": [
       "<div>\n",
       "<style scoped>\n",
       "    .dataframe tbody tr th:only-of-type {\n",
       "        vertical-align: middle;\n",
       "    }\n",
       "\n",
       "    .dataframe tbody tr th {\n",
       "        vertical-align: top;\n",
       "    }\n",
       "\n",
       "    .dataframe thead th {\n",
       "        text-align: right;\n",
       "    }\n",
       "</style>\n",
       "<table border=\"1\" class=\"dataframe\">\n",
       "  <thead>\n",
       "    <tr style=\"text-align: right;\">\n",
       "      <th></th>\n",
       "      <th>CreditScore</th>\n",
       "      <th>Geography</th>\n",
       "      <th>Gender</th>\n",
       "      <th>Age</th>\n",
       "      <th>Tenure</th>\n",
       "      <th>Balance</th>\n",
       "      <th>NumOfProducts</th>\n",
       "      <th>HasCrCard</th>\n",
       "      <th>IsActiveMember</th>\n",
       "      <th>EstimatedSalary</th>\n",
       "      <th>Exited</th>\n",
       "    </tr>\n",
       "  </thead>\n",
       "  <tbody>\n",
       "    <tr>\n",
       "      <th>0</th>\n",
       "      <td>619.0</td>\n",
       "      <td>0</td>\n",
       "      <td>0</td>\n",
       "      <td>42.0</td>\n",
       "      <td>2</td>\n",
       "      <td>0.00</td>\n",
       "      <td>1</td>\n",
       "      <td>1</td>\n",
       "      <td>1</td>\n",
       "      <td>101348.88</td>\n",
       "      <td>1</td>\n",
       "    </tr>\n",
       "    <tr>\n",
       "      <th>0</th>\n",
       "      <td>619.0</td>\n",
       "      <td>0</td>\n",
       "      <td>0</td>\n",
       "      <td>42.0</td>\n",
       "      <td>2</td>\n",
       "      <td>0.00</td>\n",
       "      <td>1</td>\n",
       "      <td>1</td>\n",
       "      <td>1</td>\n",
       "      <td>101348.88</td>\n",
       "      <td>1</td>\n",
       "    </tr>\n",
       "    <tr>\n",
       "      <th>0</th>\n",
       "      <td>619.0</td>\n",
       "      <td>0</td>\n",
       "      <td>0</td>\n",
       "      <td>42.0</td>\n",
       "      <td>2</td>\n",
       "      <td>0.00</td>\n",
       "      <td>1</td>\n",
       "      <td>1</td>\n",
       "      <td>1</td>\n",
       "      <td>101348.88</td>\n",
       "      <td>1</td>\n",
       "    </tr>\n",
       "    <tr>\n",
       "      <th>0</th>\n",
       "      <td>619.0</td>\n",
       "      <td>0</td>\n",
       "      <td>0</td>\n",
       "      <td>42.0</td>\n",
       "      <td>2</td>\n",
       "      <td>0.00</td>\n",
       "      <td>1</td>\n",
       "      <td>1</td>\n",
       "      <td>1</td>\n",
       "      <td>101348.88</td>\n",
       "      <td>1</td>\n",
       "    </tr>\n",
       "    <tr>\n",
       "      <th>0</th>\n",
       "      <td>619.0</td>\n",
       "      <td>0</td>\n",
       "      <td>0</td>\n",
       "      <td>42.0</td>\n",
       "      <td>2</td>\n",
       "      <td>0.00</td>\n",
       "      <td>1</td>\n",
       "      <td>1</td>\n",
       "      <td>1</td>\n",
       "      <td>101348.88</td>\n",
       "      <td>1</td>\n",
       "    </tr>\n",
       "    <tr>\n",
       "      <th>...</th>\n",
       "      <td>...</td>\n",
       "      <td>...</td>\n",
       "      <td>...</td>\n",
       "      <td>...</td>\n",
       "      <td>...</td>\n",
       "      <td>...</td>\n",
       "      <td>...</td>\n",
       "      <td>...</td>\n",
       "      <td>...</td>\n",
       "      <td>...</td>\n",
       "      <td>...</td>\n",
       "    </tr>\n",
       "    <tr>\n",
       "      <th>9997</th>\n",
       "      <td>709.0</td>\n",
       "      <td>0</td>\n",
       "      <td>0</td>\n",
       "      <td>36.0</td>\n",
       "      <td>7</td>\n",
       "      <td>0.00</td>\n",
       "      <td>1</td>\n",
       "      <td>0</td>\n",
       "      <td>1</td>\n",
       "      <td>42085.58</td>\n",
       "      <td>1</td>\n",
       "    </tr>\n",
       "    <tr>\n",
       "      <th>9998</th>\n",
       "      <td>772.0</td>\n",
       "      <td>1</td>\n",
       "      <td>1</td>\n",
       "      <td>42.0</td>\n",
       "      <td>3</td>\n",
       "      <td>75075.31</td>\n",
       "      <td>2</td>\n",
       "      <td>1</td>\n",
       "      <td>0</td>\n",
       "      <td>92888.52</td>\n",
       "      <td>1</td>\n",
       "    </tr>\n",
       "    <tr>\n",
       "      <th>9998</th>\n",
       "      <td>772.0</td>\n",
       "      <td>1</td>\n",
       "      <td>1</td>\n",
       "      <td>42.0</td>\n",
       "      <td>3</td>\n",
       "      <td>75075.31</td>\n",
       "      <td>2</td>\n",
       "      <td>1</td>\n",
       "      <td>0</td>\n",
       "      <td>92888.52</td>\n",
       "      <td>1</td>\n",
       "    </tr>\n",
       "    <tr>\n",
       "      <th>9998</th>\n",
       "      <td>772.0</td>\n",
       "      <td>1</td>\n",
       "      <td>1</td>\n",
       "      <td>42.0</td>\n",
       "      <td>3</td>\n",
       "      <td>75075.31</td>\n",
       "      <td>2</td>\n",
       "      <td>1</td>\n",
       "      <td>0</td>\n",
       "      <td>92888.52</td>\n",
       "      <td>1</td>\n",
       "    </tr>\n",
       "    <tr>\n",
       "      <th>9999</th>\n",
       "      <td>792.0</td>\n",
       "      <td>0</td>\n",
       "      <td>0</td>\n",
       "      <td>28.0</td>\n",
       "      <td>4</td>\n",
       "      <td>130142.79</td>\n",
       "      <td>1</td>\n",
       "      <td>1</td>\n",
       "      <td>0</td>\n",
       "      <td>38190.78</td>\n",
       "      <td>0</td>\n",
       "    </tr>\n",
       "  </tbody>\n",
       "</table>\n",
       "<p>15926 rows × 11 columns</p>\n",
       "</div>"
      ],
      "text/plain": [
       "      CreditScore  Geography  Gender   Age  Tenure    Balance  NumOfProducts  \\\n",
       "0           619.0          0       0  42.0       2       0.00              1   \n",
       "0           619.0          0       0  42.0       2       0.00              1   \n",
       "0           619.0          0       0  42.0       2       0.00              1   \n",
       "0           619.0          0       0  42.0       2       0.00              1   \n",
       "0           619.0          0       0  42.0       2       0.00              1   \n",
       "...           ...        ...     ...   ...     ...        ...            ...   \n",
       "9997        709.0          0       0  36.0       7       0.00              1   \n",
       "9998        772.0          1       1  42.0       3   75075.31              2   \n",
       "9998        772.0          1       1  42.0       3   75075.31              2   \n",
       "9998        772.0          1       1  42.0       3   75075.31              2   \n",
       "9999        792.0          0       0  28.0       4  130142.79              1   \n",
       "\n",
       "      HasCrCard  IsActiveMember  EstimatedSalary  Exited  \n",
       "0             1               1        101348.88       1  \n",
       "0             1               1        101348.88       1  \n",
       "0             1               1        101348.88       1  \n",
       "0             1               1        101348.88       1  \n",
       "0             1               1        101348.88       1  \n",
       "...         ...             ...              ...     ...  \n",
       "9997          0               1         42085.58       1  \n",
       "9998          1               0         92888.52       1  \n",
       "9998          1               0         92888.52       1  \n",
       "9998          1               0         92888.52       1  \n",
       "9999          1               0         38190.78       0  \n",
       "\n",
       "[15926 rows x 11 columns]"
      ]
     },
     "execution_count": 64,
     "metadata": {},
     "output_type": "execute_result"
    }
   ],
   "source": [
    "dataUpsampled.sort_index()"
   ]
  },
  {
   "cell_type": "code",
   "execution_count": 65,
   "metadata": {
    "colab": {
     "base_uri": "https://localhost:8080/"
    },
    "id": "su41EzLZ4fJk",
    "outputId": "74967c1a-bc0b-4fe2-f1d4-cf4005da63a9"
   },
   "outputs": [
    {
     "data": {
      "text/plain": [
       "(15926, 11)"
      ]
     },
     "execution_count": 65,
     "metadata": {},
     "output_type": "execute_result"
    }
   ],
   "source": [
    "dataUpsampled.shape"
   ]
  },
  {
   "cell_type": "markdown",
   "metadata": {
    "id": "nkbQYRNBXsj3"
   },
   "source": [
    "Now, the data is balanced"
   ]
  },
  {
   "cell_type": "code",
   "execution_count": 66,
   "metadata": {
    "id": "NCJdpguh3AyH"
   },
   "outputs": [],
   "source": [
    "x = dataUpsampled.drop('Exited', axis=1)\n",
    "y = dataUpsampled.Exited"
   ]
  },
  {
   "cell_type": "code",
   "execution_count": 67,
   "metadata": {
    "colab": {
     "base_uri": "https://localhost:8080/"
    },
    "id": "539p1Hy13ArH",
    "outputId": "0cbf13f9-478e-4041-8446-c26febaa8902"
   },
   "outputs": [
    {
     "name": "stdout",
     "output_type": "stream",
     "text": [
      "Shape of X Train:  (12740, 10)\n",
      "Shape of Y Train:  (12740,)\n",
      "Shape of X Test:  (3186, 10)\n",
      "Shape of Y Test:  (3186,)\n"
     ]
    }
   ],
   "source": [
    "xTrain, xTest, yTrain, yTest = train_test_split(x, y, test_size=0.2, random_state=42)\n",
    "\n",
    "print(\"Shape of X Train: \",xTrain.shape)\n",
    "print(\"Shape of Y Train: \",yTrain.shape)\n",
    "print(\"Shape of X Test: \",xTest.shape)\n",
    "print(\"Shape of Y Test: \",yTest.shape)"
   ]
  },
  {
   "cell_type": "markdown",
   "metadata": {
    "id": "_sxEULNdXwqZ"
   },
   "source": [
    "Using standard Scalar to scale the data."
   ]
  },
  {
   "cell_type": "code",
   "execution_count": 68,
   "metadata": {
    "id": "ZDYx_dkK2whc"
   },
   "outputs": [],
   "source": [
    "from sklearn.preprocessing import StandardScaler\n",
    "\n",
    "scale = StandardScaler()\n",
    "\n",
    "xTrain = scale.fit_transform(xTrain)\n",
    "xTest = scale.transform(xTest)"
   ]
  },
  {
   "cell_type": "markdown",
   "metadata": {
    "id": "VyMwSNKj4mlJ"
   },
   "source": [
    "Logistic Regression:"
   ]
  },
  {
   "cell_type": "code",
   "execution_count": 69,
   "metadata": {
    "id": "J7T1dEfs5H58"
   },
   "outputs": [],
   "source": [
    "parameters ={'C':[0.01,0.1,1],\n",
    "             'penalty':['l1','l2'],\n",
    "             'solver':['lbfgs']}"
   ]
  },
  {
   "cell_type": "code",
   "execution_count": 70,
   "metadata": {
    "colab": {
     "base_uri": "https://localhost:8080/"
    },
    "id": "UcvNyNkc6NFr",
    "outputId": "c12eb832-5df7-4150-b141-f1bbbdb17550"
   },
   "outputs": [
    {
     "name": "stdout",
     "output_type": "stream",
     "text": [
      "tuned hpyerparameters :(best parameters)  {'C': 0.1, 'penalty': 'l2', 'solver': 'lbfgs'}\n",
      "accuracy : 0.713657770800628\n",
      "\n",
      "Accuracy: 71.5 %\n"
     ]
    }
   ],
   "source": [
    "lr=LogisticRegression()\n",
    "logreg_cv=GridSearchCV(lr,parameters, cv=10)\n",
    "logreg_cv.fit(xTrain, yTrain)\n",
    "print(\"tuned hpyerparameters :(best parameters) \",logreg_cv.best_params_)\n",
    "print(\"accuracy :\",logreg_cv.best_score_)\n",
    "\n",
    "y_pred = logreg_cv.predict(xTest)\n",
    "logScore = accuracy_score(yTest, y_pred)\n",
    "print(\"\\nAccuracy:\",round(logScore*100,2),\"%\")"
   ]
  },
  {
   "cell_type": "markdown",
   "metadata": {
    "id": "X7GwBWQz6GKb"
   },
   "source": [
    "Decision Tree :"
   ]
  },
  {
   "cell_type": "markdown",
   "metadata": {
    "id": "0eQZsfmQ6Mbo"
   },
   "source": [
    "Random Forest :"
   ]
  },
  {
   "cell_type": "code",
   "execution_count": 73,
   "metadata": {
    "id": "I92liAaP5HyZ"
   },
   "outputs": [],
   "source": [
    "parameters={'n_estimators': [100,200,300,500]}"
   ]
  },
  {
   "cell_type": "code",
   "execution_count": 74,
   "metadata": {
    "colab": {
     "base_uri": "https://localhost:8080/"
    },
    "id": "v1uhzNSe5Hv3",
    "outputId": "5398a401-b863-41a4-cf07-14e8b3814d55"
   },
   "outputs": [
    {
     "name": "stdout",
     "output_type": "stream",
     "text": [
      "tuned hpyerparameters :(best parameters)  {'n_estimators': 300}\n",
      "accuracy : 0.9461538461538461\n",
      "\n",
      "Accuracy: 94.82 %\n"
     ]
    }
   ],
   "source": [
    "clf = RandomForestClassifier(criterion='gini', max_depth= 18, max_features='sqrt', min_samples_leaf= 1, min_samples_split= 2, random_state=200)\n",
    "clf_cv=GridSearchCV(clf,parameters, cv=10)\n",
    "clf_cv.fit(xTrain,yTrain)\n",
    "\n",
    "print(\"tuned hpyerparameters :(best parameters) \",clf_cv.best_params_)\n",
    "print(\"accuracy :\",clf_cv.best_score_)\n",
    "\n",
    "y_pred = clf_cv.predict(xTest)\n",
    "\n",
    "randomScore = accuracy_score(yTest, y_pred)\n",
    "print(\"\\nAccuracy:\", round(randomScore*100,2),\"%\")"
   ]
  },
  {
   "cell_type": "markdown",
   "metadata": {
    "id": "Hx7eXjTu-PRu"
   },
   "source": [
    "Artificial neural network (ANN):\n"
   ]
  },
  {
   "cell_type": "code",
   "execution_count": 1,
   "metadata": {
    "colab": {
     "base_uri": "https://localhost:8080/"
    },
    "id": "ZnNKcQ2k-lsu",
    "outputId": "39aae9c0-d15b-43c0-e7af-bd37c4cfb89e"
   },
   "outputs": [
    {
     "ename": "NameError",
     "evalue": "name 'dataUpsampled' is not defined",
     "output_type": "error",
     "traceback": [
      "\u001b[0;31m---------------------------------------------------------------------------\u001b[0m",
      "\u001b[0;31mNameError\u001b[0m                                 Traceback (most recent call last)",
      "\u001b[0;32m/var/folders/86/bx8p_00j25zdmprnhn8xkdl00000gn/T/ipykernel_8738/2140805647.py\u001b[0m in \u001b[0;36m<module>\u001b[0;34m\u001b[0m\n\u001b[0;32m----> 1\u001b[0;31m \u001b[0mdataUpsampled\u001b[0m\u001b[0;34m.\u001b[0m\u001b[0mshape\u001b[0m\u001b[0;34m\u001b[0m\u001b[0;34m\u001b[0m\u001b[0m\n\u001b[0m",
      "\u001b[0;31mNameError\u001b[0m: name 'dataUpsampled' is not defined"
     ]
    }
   ],
   "source": [
    "dataUpsampled.shape"
   ]
  },
  {
   "cell_type": "code",
   "execution_count": null,
   "metadata": {
    "id": "C-Uxdr6_5Hp5"
   },
   "outputs": [],
   "source": [
    "import tensorflow\n",
    "from tensorflow import keras\n",
    "from keras import Sequential\n",
    "from keras import callbacks\n",
    "from keras.callbacks import EarlyStopping\n",
    "from keras.layers import Dense,Dropout"
   ]
  },
  {
   "cell_type": "code",
   "execution_count": null,
   "metadata": {
    "id": "1eUY08nq5Hi_"
   },
   "outputs": [],
   "source": [
    "model = keras.Sequential()\n",
    "\n",
    "model.add(Dense(30, input_dim=10, activation='relu'))\n",
    "model.add(Dense(25, activation='relu'))\n",
    "model.add(Dropout(0.1))\n",
    "model.add(Dense(20, activation='relu'))\n",
    "model.add(Dropout(0.1))\n",
    "model.add(Dense(15, activation='relu'))\n",
    "model.add(Dropout(0.1))\n",
    "model.add(Dense(10, activation='relu'))\n",
    "model.add(Dropout(0.1))\n",
    "model.add(Dense(10, activation='relu'))\n",
    "model.add(Dropout(0.1))\n",
    "model.add(Dense(1,  activation='sigmoid'))"
   ]
  },
  {
   "cell_type": "code",
   "execution_count": null,
   "metadata": {
    "colab": {
     "base_uri": "https://localhost:8080/"
    },
    "id": "aJwyxmX54hxv",
    "outputId": "6c70ce01-1b05-401c-834b-0007f1a3f27b"
   },
   "outputs": [
    {
     "name": "stdout",
     "output_type": "stream",
     "text": [
      "Model: \"sequential_1\"\n",
      "_________________________________________________________________\n",
      " Layer (type)                Output Shape              Param #   \n",
      "=================================================================\n",
      " dense_6 (Dense)             (None, 30)                330       \n",
      "                                                                 \n",
      " dense_7 (Dense)             (None, 25)                775       \n",
      "                                                                 \n",
      " dropout_4 (Dropout)         (None, 25)                0         \n",
      "                                                                 \n",
      " dense_8 (Dense)             (None, 20)                520       \n",
      "                                                                 \n",
      " dropout_5 (Dropout)         (None, 20)                0         \n",
      "                                                                 \n",
      " dense_9 (Dense)             (None, 15)                315       \n",
      "                                                                 \n",
      " dropout_6 (Dropout)         (None, 15)                0         \n",
      "                                                                 \n",
      " dense_10 (Dense)            (None, 10)                160       \n",
      "                                                                 \n",
      " dropout_7 (Dropout)         (None, 10)                0         \n",
      "                                                                 \n",
      " dense_11 (Dense)            (None, 10)                110       \n",
      "                                                                 \n",
      " dropout_8 (Dropout)         (None, 10)                0         \n",
      "                                                                 \n",
      " dense_12 (Dense)            (None, 1)                 11        \n",
      "                                                                 \n",
      "=================================================================\n",
      "Total params: 2,221\n",
      "Trainable params: 2,221\n",
      "Non-trainable params: 0\n",
      "_________________________________________________________________\n"
     ]
    }
   ],
   "source": [
    "model.summary()"
   ]
  },
  {
   "cell_type": "code",
   "execution_count": null,
   "metadata": {
    "id": "4EJQbXZ4-7yv"
   },
   "outputs": [],
   "source": [
    "model.compile(optimizer='adam', loss='binary_crossentropy', metrics=['accuracy'])"
   ]
  },
  {
   "cell_type": "code",
   "execution_count": null,
   "metadata": {
    "id": "3i_lR7af--WZ"
   },
   "outputs": [],
   "source": [
    "callEarly=EarlyStopping(monitor='val_loss',min_delta=0.01,patience=50,verbose=1,mode=\"auto\")"
   ]
  },
  {
   "cell_type": "code",
   "execution_count": null,
   "metadata": {
    "colab": {
     "base_uri": "https://localhost:8080/"
    },
    "id": "-G2sglNc_EX4",
    "outputId": "070dbeaf-b1d9-4473-c016-b3a0c867eded"
   },
   "outputs": [
    {
     "name": "stdout",
     "output_type": "stream",
     "text": [
      "Epoch 1/250\n",
      "319/319 [==============================] - 2s 4ms/step - loss: 0.6289 - accuracy: 0.6545 - val_loss: 0.5518 - val_accuracy: 0.7198\n",
      "Epoch 2/250\n",
      "319/319 [==============================] - 1s 4ms/step - loss: 0.5534 - accuracy: 0.7354 - val_loss: 0.5194 - val_accuracy: 0.7484\n",
      "Epoch 3/250\n",
      "319/319 [==============================] - 1s 4ms/step - loss: 0.5171 - accuracy: 0.7585 - val_loss: 0.4862 - val_accuracy: 0.7543\n",
      "Epoch 4/250\n",
      "319/319 [==============================] - 1s 4ms/step - loss: 0.4968 - accuracy: 0.7651 - val_loss: 0.4724 - val_accuracy: 0.7692\n",
      "Epoch 5/250\n",
      "319/319 [==============================] - 1s 5ms/step - loss: 0.4880 - accuracy: 0.7688 - val_loss: 0.4700 - val_accuracy: 0.7688\n",
      "Epoch 6/250\n",
      "319/319 [==============================] - 1s 4ms/step - loss: 0.4781 - accuracy: 0.7716 - val_loss: 0.4603 - val_accuracy: 0.7771\n",
      "Epoch 7/250\n",
      "319/319 [==============================] - 1s 4ms/step - loss: 0.4741 - accuracy: 0.7816 - val_loss: 0.4619 - val_accuracy: 0.7747\n",
      "Epoch 8/250\n",
      "319/319 [==============================] - 1s 4ms/step - loss: 0.4666 - accuracy: 0.7817 - val_loss: 0.4604 - val_accuracy: 0.7806\n",
      "Epoch 9/250\n",
      "319/319 [==============================] - 1s 5ms/step - loss: 0.4653 - accuracy: 0.7829 - val_loss: 0.4568 - val_accuracy: 0.7767\n",
      "Epoch 10/250\n",
      "319/319 [==============================] - 1s 4ms/step - loss: 0.4618 - accuracy: 0.7849 - val_loss: 0.4540 - val_accuracy: 0.7822\n",
      "Epoch 11/250\n",
      "319/319 [==============================] - 1s 4ms/step - loss: 0.4556 - accuracy: 0.7875 - val_loss: 0.4537 - val_accuracy: 0.7826\n",
      "Epoch 12/250\n",
      "319/319 [==============================] - 1s 4ms/step - loss: 0.4565 - accuracy: 0.7889 - val_loss: 0.4483 - val_accuracy: 0.7896\n",
      "Epoch 13/250\n",
      "319/319 [==============================] - 1s 4ms/step - loss: 0.4493 - accuracy: 0.7896 - val_loss: 0.4423 - val_accuracy: 0.7940\n",
      "Epoch 14/250\n",
      "319/319 [==============================] - 1s 4ms/step - loss: 0.4422 - accuracy: 0.7958 - val_loss: 0.4468 - val_accuracy: 0.7920\n",
      "Epoch 15/250\n",
      "319/319 [==============================] - 1s 4ms/step - loss: 0.4395 - accuracy: 0.7993 - val_loss: 0.4457 - val_accuracy: 0.7920\n",
      "Epoch 16/250\n",
      "319/319 [==============================] - 1s 4ms/step - loss: 0.4400 - accuracy: 0.8023 - val_loss: 0.4403 - val_accuracy: 0.7885\n",
      "Epoch 17/250\n",
      "319/319 [==============================] - 1s 4ms/step - loss: 0.4346 - accuracy: 0.8024 - val_loss: 0.4410 - val_accuracy: 0.7943\n",
      "Epoch 18/250\n",
      "319/319 [==============================] - 1s 4ms/step - loss: 0.4352 - accuracy: 0.8025 - val_loss: 0.4367 - val_accuracy: 0.7971\n",
      "Epoch 19/250\n",
      "319/319 [==============================] - 1s 4ms/step - loss: 0.4304 - accuracy: 0.8077 - val_loss: 0.4373 - val_accuracy: 0.7987\n",
      "Epoch 20/250\n",
      "319/319 [==============================] - 1s 4ms/step - loss: 0.4264 - accuracy: 0.8112 - val_loss: 0.4432 - val_accuracy: 0.7998\n",
      "Epoch 21/250\n",
      "319/319 [==============================] - 1s 4ms/step - loss: 0.4256 - accuracy: 0.8078 - val_loss: 0.4270 - val_accuracy: 0.8069\n",
      "Epoch 22/250\n",
      "319/319 [==============================] - 1s 4ms/step - loss: 0.4230 - accuracy: 0.8112 - val_loss: 0.4306 - val_accuracy: 0.8053\n",
      "Epoch 23/250\n",
      "319/319 [==============================] - 1s 4ms/step - loss: 0.4195 - accuracy: 0.8123 - val_loss: 0.4277 - val_accuracy: 0.8006\n",
      "Epoch 24/250\n",
      "319/319 [==============================] - 1s 4ms/step - loss: 0.4139 - accuracy: 0.8145 - val_loss: 0.4283 - val_accuracy: 0.8038\n",
      "Epoch 25/250\n",
      "319/319 [==============================] - 1s 4ms/step - loss: 0.4131 - accuracy: 0.8116 - val_loss: 0.4264 - val_accuracy: 0.8081\n",
      "Epoch 26/250\n",
      "319/319 [==============================] - 1s 4ms/step - loss: 0.4120 - accuracy: 0.8127 - val_loss: 0.4258 - val_accuracy: 0.8085\n",
      "Epoch 27/250\n",
      "319/319 [==============================] - 1s 4ms/step - loss: 0.4132 - accuracy: 0.8132 - val_loss: 0.4271 - val_accuracy: 0.8038\n",
      "Epoch 28/250\n",
      "319/319 [==============================] - 1s 4ms/step - loss: 0.4125 - accuracy: 0.8149 - val_loss: 0.4199 - val_accuracy: 0.8089\n",
      "Epoch 29/250\n",
      "319/319 [==============================] - 1s 4ms/step - loss: 0.4060 - accuracy: 0.8194 - val_loss: 0.4152 - val_accuracy: 0.8144\n",
      "Epoch 30/250\n",
      "319/319 [==============================] - 1s 4ms/step - loss: 0.4078 - accuracy: 0.8186 - val_loss: 0.4194 - val_accuracy: 0.8108\n",
      "Epoch 31/250\n",
      "319/319 [==============================] - 1s 4ms/step - loss: 0.4069 - accuracy: 0.8183 - val_loss: 0.4203 - val_accuracy: 0.8100\n",
      "Epoch 32/250\n",
      "319/319 [==============================] - 1s 4ms/step - loss: 0.3999 - accuracy: 0.8237 - val_loss: 0.4054 - val_accuracy: 0.8210\n",
      "Epoch 33/250\n",
      "319/319 [==============================] - 1s 4ms/step - loss: 0.4002 - accuracy: 0.8211 - val_loss: 0.4108 - val_accuracy: 0.8199\n",
      "Epoch 34/250\n",
      "319/319 [==============================] - 1s 4ms/step - loss: 0.3967 - accuracy: 0.8242 - val_loss: 0.4055 - val_accuracy: 0.8234\n",
      "Epoch 35/250\n",
      "319/319 [==============================] - 1s 5ms/step - loss: 0.4019 - accuracy: 0.8218 - val_loss: 0.4048 - val_accuracy: 0.8148\n",
      "Epoch 36/250\n",
      "319/319 [==============================] - 1s 4ms/step - loss: 0.3949 - accuracy: 0.8255 - val_loss: 0.4091 - val_accuracy: 0.8175\n",
      "Epoch 37/250\n",
      "319/319 [==============================] - 1s 4ms/step - loss: 0.3892 - accuracy: 0.8291 - val_loss: 0.4133 - val_accuracy: 0.8155\n",
      "Epoch 38/250\n",
      "319/319 [==============================] - 1s 5ms/step - loss: 0.3973 - accuracy: 0.8224 - val_loss: 0.4097 - val_accuracy: 0.8199\n",
      "Epoch 39/250\n",
      "319/319 [==============================] - 1s 4ms/step - loss: 0.3932 - accuracy: 0.8262 - val_loss: 0.4142 - val_accuracy: 0.8159\n",
      "Epoch 40/250\n",
      "319/319 [==============================] - 1s 4ms/step - loss: 0.3927 - accuracy: 0.8265 - val_loss: 0.4057 - val_accuracy: 0.8281\n",
      "Epoch 41/250\n",
      "319/319 [==============================] - 1s 4ms/step - loss: 0.3847 - accuracy: 0.8343 - val_loss: 0.4081 - val_accuracy: 0.8222\n",
      "Epoch 42/250\n",
      "319/319 [==============================] - 1s 4ms/step - loss: 0.3849 - accuracy: 0.8296 - val_loss: 0.4104 - val_accuracy: 0.8171\n",
      "Epoch 43/250\n",
      "319/319 [==============================] - 1s 5ms/step - loss: 0.3881 - accuracy: 0.8295 - val_loss: 0.4095 - val_accuracy: 0.8226\n",
      "Epoch 44/250\n",
      "319/319 [==============================] - 1s 4ms/step - loss: 0.3827 - accuracy: 0.8322 - val_loss: 0.4127 - val_accuracy: 0.8175\n",
      "Epoch 45/250\n",
      "319/319 [==============================] - 1s 4ms/step - loss: 0.3856 - accuracy: 0.8318 - val_loss: 0.4120 - val_accuracy: 0.8214\n",
      "Epoch 46/250\n",
      "319/319 [==============================] - 1s 4ms/step - loss: 0.3897 - accuracy: 0.8297 - val_loss: 0.4075 - val_accuracy: 0.8230\n",
      "Epoch 47/250\n",
      "319/319 [==============================] - 1s 4ms/step - loss: 0.3819 - accuracy: 0.8308 - val_loss: 0.4056 - val_accuracy: 0.8289\n",
      "Epoch 48/250\n",
      "319/319 [==============================] - 1s 4ms/step - loss: 0.3811 - accuracy: 0.8365 - val_loss: 0.3998 - val_accuracy: 0.8250\n",
      "Epoch 49/250\n",
      "319/319 [==============================] - 1s 4ms/step - loss: 0.3836 - accuracy: 0.8310 - val_loss: 0.4021 - val_accuracy: 0.8250\n",
      "Epoch 50/250\n",
      "319/319 [==============================] - 1s 4ms/step - loss: 0.3801 - accuracy: 0.8328 - val_loss: 0.4007 - val_accuracy: 0.8273\n",
      "Epoch 51/250\n",
      "319/319 [==============================] - 1s 4ms/step - loss: 0.3798 - accuracy: 0.8354 - val_loss: 0.4008 - val_accuracy: 0.8285\n",
      "Epoch 52/250\n",
      "319/319 [==============================] - 1s 5ms/step - loss: 0.3749 - accuracy: 0.8374 - val_loss: 0.4025 - val_accuracy: 0.8230\n",
      "Epoch 53/250\n",
      "319/319 [==============================] - 1s 4ms/step - loss: 0.3810 - accuracy: 0.8328 - val_loss: 0.3997 - val_accuracy: 0.8320\n",
      "Epoch 54/250\n",
      "319/319 [==============================] - 1s 4ms/step - loss: 0.3707 - accuracy: 0.8414 - val_loss: 0.4120 - val_accuracy: 0.8214\n",
      "Epoch 55/250\n",
      "319/319 [==============================] - 1s 4ms/step - loss: 0.3784 - accuracy: 0.8364 - val_loss: 0.4080 - val_accuracy: 0.8218\n",
      "Epoch 56/250\n",
      "319/319 [==============================] - 1s 4ms/step - loss: 0.3765 - accuracy: 0.8353 - val_loss: 0.4016 - val_accuracy: 0.8254\n",
      "Epoch 57/250\n",
      "319/319 [==============================] - 1s 4ms/step - loss: 0.3719 - accuracy: 0.8403 - val_loss: 0.4042 - val_accuracy: 0.8281\n",
      "Epoch 58/250\n",
      "319/319 [==============================] - 1s 4ms/step - loss: 0.3721 - accuracy: 0.8371 - val_loss: 0.4091 - val_accuracy: 0.8230\n",
      "Epoch 59/250\n",
      "319/319 [==============================] - 1s 4ms/step - loss: 0.3738 - accuracy: 0.8367 - val_loss: 0.4077 - val_accuracy: 0.8254\n",
      "Epoch 60/250\n",
      "319/319 [==============================] - 1s 4ms/step - loss: 0.3684 - accuracy: 0.8443 - val_loss: 0.4098 - val_accuracy: 0.8175\n",
      "Epoch 61/250\n",
      "319/319 [==============================] - 1s 4ms/step - loss: 0.3708 - accuracy: 0.8364 - val_loss: 0.4052 - val_accuracy: 0.8214\n",
      "Epoch 62/250\n",
      "319/319 [==============================] - 1s 4ms/step - loss: 0.3695 - accuracy: 0.8377 - val_loss: 0.3984 - val_accuracy: 0.8269\n",
      "Epoch 63/250\n",
      "319/319 [==============================] - 1s 4ms/step - loss: 0.3677 - accuracy: 0.8411 - val_loss: 0.3998 - val_accuracy: 0.8305\n",
      "Epoch 64/250\n",
      "319/319 [==============================] - 1s 4ms/step - loss: 0.3658 - accuracy: 0.8427 - val_loss: 0.4300 - val_accuracy: 0.8151\n",
      "Epoch 65/250\n",
      "319/319 [==============================] - 1s 4ms/step - loss: 0.3695 - accuracy: 0.8390 - val_loss: 0.4023 - val_accuracy: 0.8254\n",
      "Epoch 66/250\n",
      "319/319 [==============================] - 1s 4ms/step - loss: 0.3632 - accuracy: 0.8427 - val_loss: 0.4059 - val_accuracy: 0.8261\n",
      "Epoch 67/250\n",
      "319/319 [==============================] - 1s 4ms/step - loss: 0.3689 - accuracy: 0.8377 - val_loss: 0.4004 - val_accuracy: 0.8301\n",
      "Epoch 68/250\n",
      "319/319 [==============================] - 1s 4ms/step - loss: 0.3735 - accuracy: 0.8385 - val_loss: 0.4062 - val_accuracy: 0.8191\n",
      "Epoch 69/250\n",
      "319/319 [==============================] - 1s 4ms/step - loss: 0.3633 - accuracy: 0.8410 - val_loss: 0.4041 - val_accuracy: 0.8289\n",
      "Epoch 70/250\n",
      "319/319 [==============================] - 1s 4ms/step - loss: 0.3620 - accuracy: 0.8462 - val_loss: 0.3997 - val_accuracy: 0.8352\n",
      "Epoch 71/250\n",
      "319/319 [==============================] - 1s 4ms/step - loss: 0.3676 - accuracy: 0.8366 - val_loss: 0.4066 - val_accuracy: 0.8254\n",
      "Epoch 72/250\n",
      "319/319 [==============================] - 1s 4ms/step - loss: 0.3654 - accuracy: 0.8378 - val_loss: 0.4046 - val_accuracy: 0.8246\n",
      "Epoch 73/250\n",
      "319/319 [==============================] - 1s 4ms/step - loss: 0.3641 - accuracy: 0.8458 - val_loss: 0.3997 - val_accuracy: 0.8301\n",
      "Epoch 74/250\n",
      "319/319 [==============================] - 1s 5ms/step - loss: 0.3685 - accuracy: 0.8412 - val_loss: 0.3929 - val_accuracy: 0.8367\n",
      "Epoch 75/250\n",
      "319/319 [==============================] - 1s 4ms/step - loss: 0.3588 - accuracy: 0.8479 - val_loss: 0.4143 - val_accuracy: 0.8254\n",
      "Epoch 76/250\n",
      "319/319 [==============================] - 1s 4ms/step - loss: 0.3663 - accuracy: 0.8424 - val_loss: 0.3976 - val_accuracy: 0.8281\n",
      "Epoch 77/250\n",
      "319/319 [==============================] - 1s 4ms/step - loss: 0.3558 - accuracy: 0.8487 - val_loss: 0.4050 - val_accuracy: 0.8269\n",
      "Epoch 78/250\n",
      "319/319 [==============================] - 1s 4ms/step - loss: 0.3618 - accuracy: 0.8439 - val_loss: 0.4012 - val_accuracy: 0.8269\n",
      "Epoch 79/250\n",
      "319/319 [==============================] - 1s 4ms/step - loss: 0.3591 - accuracy: 0.8440 - val_loss: 0.4041 - val_accuracy: 0.8246\n",
      "Epoch 80/250\n",
      "319/319 [==============================] - 1s 4ms/step - loss: 0.3580 - accuracy: 0.8458 - val_loss: 0.4049 - val_accuracy: 0.8242\n",
      "Epoch 81/250\n",
      "319/319 [==============================] - 1s 4ms/step - loss: 0.3604 - accuracy: 0.8473 - val_loss: 0.3941 - val_accuracy: 0.8316\n",
      "Epoch 82/250\n",
      "319/319 [==============================] - 1s 4ms/step - loss: 0.3552 - accuracy: 0.8489 - val_loss: 0.4000 - val_accuracy: 0.8254\n",
      "Epoch 83/250\n",
      "319/319 [==============================] - 1s 4ms/step - loss: 0.3582 - accuracy: 0.8488 - val_loss: 0.3961 - val_accuracy: 0.8305\n",
      "Epoch 84/250\n",
      "319/319 [==============================] - 1s 4ms/step - loss: 0.3590 - accuracy: 0.8459 - val_loss: 0.3971 - val_accuracy: 0.8261\n",
      "Epoch 85/250\n",
      "319/319 [==============================] - 1s 4ms/step - loss: 0.3592 - accuracy: 0.8472 - val_loss: 0.4005 - val_accuracy: 0.8234\n",
      "Epoch 86/250\n",
      "319/319 [==============================] - 1s 4ms/step - loss: 0.3582 - accuracy: 0.8506 - val_loss: 0.3942 - val_accuracy: 0.8289\n",
      "Epoch 87/250\n",
      "319/319 [==============================] - 1s 4ms/step - loss: 0.3603 - accuracy: 0.8463 - val_loss: 0.3943 - val_accuracy: 0.8332\n",
      "Epoch 88/250\n",
      "319/319 [==============================] - 1s 4ms/step - loss: 0.3564 - accuracy: 0.8464 - val_loss: 0.3977 - val_accuracy: 0.8277\n",
      "Epoch 89/250\n",
      "319/319 [==============================] - 1s 4ms/step - loss: 0.3525 - accuracy: 0.8499 - val_loss: 0.4015 - val_accuracy: 0.8324\n",
      "Epoch 90/250\n",
      "319/319 [==============================] - 1s 4ms/step - loss: 0.3553 - accuracy: 0.8505 - val_loss: 0.4070 - val_accuracy: 0.8246\n",
      "Epoch 91/250\n",
      "319/319 [==============================] - 1s 4ms/step - loss: 0.3548 - accuracy: 0.8476 - val_loss: 0.4002 - val_accuracy: 0.8273\n",
      "Epoch 92/250\n",
      "319/319 [==============================] - 1s 4ms/step - loss: 0.3564 - accuracy: 0.8488 - val_loss: 0.4130 - val_accuracy: 0.8191\n",
      "Epoch 93/250\n",
      "319/319 [==============================] - 1s 4ms/step - loss: 0.3547 - accuracy: 0.8506 - val_loss: 0.3981 - val_accuracy: 0.8281\n",
      "Epoch 94/250\n",
      "319/319 [==============================] - 1s 4ms/step - loss: 0.3543 - accuracy: 0.8505 - val_loss: 0.3945 - val_accuracy: 0.8305\n",
      "Epoch 95/250\n",
      "319/319 [==============================] - 1s 4ms/step - loss: 0.3560 - accuracy: 0.8466 - val_loss: 0.4091 - val_accuracy: 0.8218\n",
      "Epoch 96/250\n",
      "319/319 [==============================] - 1s 4ms/step - loss: 0.3526 - accuracy: 0.8485 - val_loss: 0.4192 - val_accuracy: 0.8234\n",
      "Epoch 97/250\n",
      "319/319 [==============================] - 1s 4ms/step - loss: 0.3548 - accuracy: 0.8493 - val_loss: 0.4070 - val_accuracy: 0.8285\n",
      "Epoch 98/250\n",
      "319/319 [==============================] - 1s 4ms/step - loss: 0.3487 - accuracy: 0.8516 - val_loss: 0.3952 - val_accuracy: 0.8340\n",
      "Epoch 99/250\n",
      "319/319 [==============================] - 1s 4ms/step - loss: 0.3489 - accuracy: 0.8526 - val_loss: 0.4013 - val_accuracy: 0.8320\n",
      "Epoch 100/250\n",
      "319/319 [==============================] - 1s 5ms/step - loss: 0.3517 - accuracy: 0.8510 - val_loss: 0.4078 - val_accuracy: 0.8210\n",
      "Epoch 101/250\n",
      "319/319 [==============================] - 1s 4ms/step - loss: 0.3511 - accuracy: 0.8536 - val_loss: 0.4107 - val_accuracy: 0.8203\n",
      "Epoch 102/250\n",
      "319/319 [==============================] - 1s 4ms/step - loss: 0.3556 - accuracy: 0.8477 - val_loss: 0.3983 - val_accuracy: 0.8285\n",
      "Epoch 103/250\n",
      "319/319 [==============================] - 1s 4ms/step - loss: 0.3459 - accuracy: 0.8532 - val_loss: 0.4056 - val_accuracy: 0.8289\n",
      "Epoch 104/250\n",
      "319/319 [==============================] - 1s 5ms/step - loss: 0.3482 - accuracy: 0.8559 - val_loss: 0.3952 - val_accuracy: 0.8312\n",
      "Epoch 105/250\n",
      "319/319 [==============================] - 1s 4ms/step - loss: 0.3466 - accuracy: 0.8543 - val_loss: 0.3942 - val_accuracy: 0.8312\n",
      "Epoch 106/250\n",
      "319/319 [==============================] - 1s 4ms/step - loss: 0.3505 - accuracy: 0.8523 - val_loss: 0.3957 - val_accuracy: 0.8324\n",
      "Epoch 107/250\n",
      "319/319 [==============================] - 1s 4ms/step - loss: 0.3487 - accuracy: 0.8542 - val_loss: 0.3989 - val_accuracy: 0.8328\n",
      "Epoch 108/250\n",
      "319/319 [==============================] - 1s 4ms/step - loss: 0.3453 - accuracy: 0.8549 - val_loss: 0.4171 - val_accuracy: 0.8230\n",
      "Epoch 109/250\n",
      "319/319 [==============================] - 1s 4ms/step - loss: 0.3444 - accuracy: 0.8552 - val_loss: 0.4018 - val_accuracy: 0.8293\n",
      "Epoch 110/250\n",
      "319/319 [==============================] - 1s 4ms/step - loss: 0.3440 - accuracy: 0.8563 - val_loss: 0.4022 - val_accuracy: 0.8285\n",
      "Epoch 111/250\n",
      "319/319 [==============================] - 1s 4ms/step - loss: 0.3440 - accuracy: 0.8545 - val_loss: 0.3955 - val_accuracy: 0.8336\n",
      "Epoch 112/250\n",
      "319/319 [==============================] - 1s 4ms/step - loss: 0.3468 - accuracy: 0.8541 - val_loss: 0.3898 - val_accuracy: 0.8320\n",
      "Epoch 113/250\n",
      "319/319 [==============================] - 2s 5ms/step - loss: 0.3462 - accuracy: 0.8520 - val_loss: 0.3890 - val_accuracy: 0.8348\n",
      "Epoch 114/250\n",
      "319/319 [==============================] - 1s 4ms/step - loss: 0.3445 - accuracy: 0.8542 - val_loss: 0.3858 - val_accuracy: 0.8403\n",
      "Epoch 115/250\n",
      "319/319 [==============================] - 1s 4ms/step - loss: 0.3376 - accuracy: 0.8573 - val_loss: 0.3932 - val_accuracy: 0.8336\n",
      "Epoch 116/250\n",
      "319/319 [==============================] - 1s 4ms/step - loss: 0.3469 - accuracy: 0.8512 - val_loss: 0.3992 - val_accuracy: 0.8254\n",
      "Epoch 117/250\n",
      "319/319 [==============================] - 1s 4ms/step - loss: 0.3454 - accuracy: 0.8527 - val_loss: 0.3932 - val_accuracy: 0.8285\n",
      "Epoch 118/250\n",
      "319/319 [==============================] - 1s 4ms/step - loss: 0.3412 - accuracy: 0.8566 - val_loss: 0.3935 - val_accuracy: 0.8344\n",
      "Epoch 119/250\n",
      "319/319 [==============================] - 1s 4ms/step - loss: 0.3464 - accuracy: 0.8527 - val_loss: 0.3917 - val_accuracy: 0.8363\n",
      "Epoch 120/250\n",
      "319/319 [==============================] - 1s 4ms/step - loss: 0.3397 - accuracy: 0.8560 - val_loss: 0.3822 - val_accuracy: 0.8348\n",
      "Epoch 121/250\n",
      "319/319 [==============================] - 1s 4ms/step - loss: 0.3412 - accuracy: 0.8543 - val_loss: 0.3862 - val_accuracy: 0.8438\n",
      "Epoch 122/250\n",
      "319/319 [==============================] - 1s 4ms/step - loss: 0.3377 - accuracy: 0.8589 - val_loss: 0.3943 - val_accuracy: 0.8293\n",
      "Epoch 123/250\n",
      "319/319 [==============================] - 1s 4ms/step - loss: 0.3383 - accuracy: 0.8558 - val_loss: 0.3896 - val_accuracy: 0.8344\n",
      "Epoch 124/250\n",
      "319/319 [==============================] - 1s 4ms/step - loss: 0.3364 - accuracy: 0.8620 - val_loss: 0.3895 - val_accuracy: 0.8371\n",
      "Epoch 125/250\n",
      "319/319 [==============================] - 1s 4ms/step - loss: 0.3451 - accuracy: 0.8536 - val_loss: 0.3925 - val_accuracy: 0.8297\n",
      "Epoch 126/250\n",
      "319/319 [==============================] - 1s 4ms/step - loss: 0.3466 - accuracy: 0.8514 - val_loss: 0.3977 - val_accuracy: 0.8305\n",
      "Epoch 127/250\n",
      "319/319 [==============================] - 1s 4ms/step - loss: 0.3380 - accuracy: 0.8612 - val_loss: 0.3972 - val_accuracy: 0.8246\n",
      "Epoch 128/250\n",
      "319/319 [==============================] - 1s 4ms/step - loss: 0.3414 - accuracy: 0.8530 - val_loss: 0.3879 - val_accuracy: 0.8320\n",
      "Epoch 129/250\n",
      "319/319 [==============================] - 1s 4ms/step - loss: 0.3391 - accuracy: 0.8553 - val_loss: 0.3844 - val_accuracy: 0.8379\n",
      "Epoch 130/250\n",
      "319/319 [==============================] - 1s 5ms/step - loss: 0.3448 - accuracy: 0.8557 - val_loss: 0.3876 - val_accuracy: 0.8407\n",
      "Epoch 131/250\n",
      "319/319 [==============================] - 1s 4ms/step - loss: 0.3469 - accuracy: 0.8529 - val_loss: 0.3885 - val_accuracy: 0.8395\n",
      "Epoch 132/250\n",
      "319/319 [==============================] - 1s 4ms/step - loss: 0.3445 - accuracy: 0.8531 - val_loss: 0.3877 - val_accuracy: 0.8399\n",
      "Epoch 133/250\n",
      "319/319 [==============================] - 1s 4ms/step - loss: 0.3350 - accuracy: 0.8600 - val_loss: 0.3891 - val_accuracy: 0.8375\n",
      "Epoch 134/250\n",
      "319/319 [==============================] - 1s 4ms/step - loss: 0.3371 - accuracy: 0.8587 - val_loss: 0.4009 - val_accuracy: 0.8289\n",
      "Epoch 135/250\n",
      "319/319 [==============================] - 1s 5ms/step - loss: 0.3401 - accuracy: 0.8566 - val_loss: 0.3890 - val_accuracy: 0.8340\n",
      "Epoch 136/250\n",
      "319/319 [==============================] - 1s 4ms/step - loss: 0.3388 - accuracy: 0.8568 - val_loss: 0.3936 - val_accuracy: 0.8277\n",
      "Epoch 137/250\n",
      "319/319 [==============================] - 1s 4ms/step - loss: 0.3391 - accuracy: 0.8582 - val_loss: 0.3925 - val_accuracy: 0.8367\n",
      "Epoch 138/250\n",
      "319/319 [==============================] - 1s 4ms/step - loss: 0.3287 - accuracy: 0.8641 - val_loss: 0.3973 - val_accuracy: 0.8344\n",
      "Epoch 140/250\n",
      "319/319 [==============================] - 1s 4ms/step - loss: 0.3317 - accuracy: 0.8596 - val_loss: 0.4015 - val_accuracy: 0.8316\n",
      "Epoch 141/250\n",
      "319/319 [==============================] - 1s 4ms/step - loss: 0.3389 - accuracy: 0.8573 - val_loss: 0.3847 - val_accuracy: 0.8414\n",
      "Epoch 142/250\n",
      "319/319 [==============================] - 1s 4ms/step - loss: 0.3370 - accuracy: 0.8571 - val_loss: 0.3971 - val_accuracy: 0.8297\n",
      "Epoch 143/250\n",
      "319/319 [==============================] - 1s 4ms/step - loss: 0.3424 - accuracy: 0.8539 - val_loss: 0.3924 - val_accuracy: 0.8348\n",
      "Epoch 144/250\n",
      "319/319 [==============================] - 1s 4ms/step - loss: 0.3402 - accuracy: 0.8567 - val_loss: 0.3965 - val_accuracy: 0.8332\n",
      "Epoch 145/250\n",
      "319/319 [==============================] - 1s 4ms/step - loss: 0.3361 - accuracy: 0.8608 - val_loss: 0.3999 - val_accuracy: 0.8273\n",
      "Epoch 146/250\n",
      "319/319 [==============================] - 1s 4ms/step - loss: 0.3352 - accuracy: 0.8631 - val_loss: 0.3900 - val_accuracy: 0.8367\n",
      "Epoch 147/250\n",
      "319/319 [==============================] - 1s 4ms/step - loss: 0.3318 - accuracy: 0.8620 - val_loss: 0.3936 - val_accuracy: 0.8301\n",
      "Epoch 148/250\n",
      "319/319 [==============================] - 1s 4ms/step - loss: 0.3385 - accuracy: 0.8557 - val_loss: 0.3778 - val_accuracy: 0.8434\n",
      "Epoch 149/250\n",
      "319/319 [==============================] - 1s 4ms/step - loss: 0.3323 - accuracy: 0.8616 - val_loss: 0.3863 - val_accuracy: 0.8352\n",
      "Epoch 150/250\n",
      "319/319 [==============================] - 1s 4ms/step - loss: 0.3373 - accuracy: 0.8602 - val_loss: 0.3890 - val_accuracy: 0.8352\n",
      "Epoch 151/250\n",
      "319/319 [==============================] - 1s 4ms/step - loss: 0.3314 - accuracy: 0.8626 - val_loss: 0.3883 - val_accuracy: 0.8344\n",
      "Epoch 152/250\n",
      "319/319 [==============================] - 1s 4ms/step - loss: 0.3343 - accuracy: 0.8599 - val_loss: 0.3935 - val_accuracy: 0.8336\n",
      "Epoch 153/250\n",
      "319/319 [==============================] - 1s 4ms/step - loss: 0.3346 - accuracy: 0.8625 - val_loss: 0.3954 - val_accuracy: 0.8336\n",
      "Epoch 154/250\n",
      "319/319 [==============================] - 1s 4ms/step - loss: 0.3296 - accuracy: 0.8632 - val_loss: 0.3954 - val_accuracy: 0.8348\n",
      "Epoch 155/250\n",
      "319/319 [==============================] - 1s 5ms/step - loss: 0.3315 - accuracy: 0.8618 - val_loss: 0.4096 - val_accuracy: 0.8257\n",
      "Epoch 156/250\n",
      "319/319 [==============================] - 1s 4ms/step - loss: 0.3270 - accuracy: 0.8623 - val_loss: 0.3871 - val_accuracy: 0.8336\n",
      "Epoch 157/250\n",
      "319/319 [==============================] - 1s 5ms/step - loss: 0.3327 - accuracy: 0.8602 - val_loss: 0.3981 - val_accuracy: 0.8273\n",
      "Epoch 158/250\n",
      "319/319 [==============================] - 1s 4ms/step - loss: 0.3327 - accuracy: 0.8613 - val_loss: 0.3879 - val_accuracy: 0.8348\n",
      "Epoch 159/250\n",
      "319/319 [==============================] - 1s 4ms/step - loss: 0.3337 - accuracy: 0.8633 - val_loss: 0.3887 - val_accuracy: 0.8297\n",
      "Epoch 160/250\n",
      "319/319 [==============================] - 1s 4ms/step - loss: 0.3381 - accuracy: 0.8571 - val_loss: 0.4003 - val_accuracy: 0.8293\n",
      "Epoch 161/250\n",
      "319/319 [==============================] - 1s 4ms/step - loss: 0.3293 - accuracy: 0.8640 - val_loss: 0.3901 - val_accuracy: 0.8359\n",
      "Epoch 162/250\n",
      "319/319 [==============================] - 1s 4ms/step - loss: 0.3309 - accuracy: 0.8618 - val_loss: 0.3871 - val_accuracy: 0.8411\n",
      "Epoch 163/250\n",
      "319/319 [==============================] - 1s 4ms/step - loss: 0.3263 - accuracy: 0.8646 - val_loss: 0.3956 - val_accuracy: 0.8371\n",
      "Epoch 164/250\n",
      "319/319 [==============================] - 1s 4ms/step - loss: 0.3325 - accuracy: 0.8627 - val_loss: 0.3887 - val_accuracy: 0.8359\n",
      "Epoch 165/250\n",
      "319/319 [==============================] - 1s 4ms/step - loss: 0.3334 - accuracy: 0.8574 - val_loss: 0.3896 - val_accuracy: 0.8324\n",
      "Epoch 166/250\n",
      "319/319 [==============================] - 1s 5ms/step - loss: 0.3294 - accuracy: 0.8639 - val_loss: 0.3945 - val_accuracy: 0.8312\n",
      "Epoch 167/250\n",
      "319/319 [==============================] - 1s 4ms/step - loss: 0.3319 - accuracy: 0.8624 - val_loss: 0.3920 - val_accuracy: 0.8328\n",
      "Epoch 168/250\n",
      "319/319 [==============================] - 1s 4ms/step - loss: 0.3310 - accuracy: 0.8621 - val_loss: 0.3879 - val_accuracy: 0.8332\n",
      "Epoch 169/250\n",
      "319/319 [==============================] - 1s 4ms/step - loss: 0.3291 - accuracy: 0.8655 - val_loss: 0.3950 - val_accuracy: 0.8254\n",
      "Epoch 170/250\n",
      "319/319 [==============================] - 1s 4ms/step - loss: 0.3371 - accuracy: 0.8583 - val_loss: 0.3850 - val_accuracy: 0.8395\n",
      "Epoch 171/250\n",
      "319/319 [==============================] - 1s 4ms/step - loss: 0.3259 - accuracy: 0.8641 - val_loss: 0.4020 - val_accuracy: 0.8308\n",
      "Epoch 172/250\n",
      "319/319 [==============================] - 1s 4ms/step - loss: 0.3353 - accuracy: 0.8573 - val_loss: 0.3798 - val_accuracy: 0.8446\n",
      "Epoch 173/250\n",
      "319/319 [==============================] - 1s 4ms/step - loss: 0.3357 - accuracy: 0.8583 - val_loss: 0.3824 - val_accuracy: 0.8391\n",
      "Epoch 174/250\n",
      "319/319 [==============================] - 1s 4ms/step - loss: 0.3325 - accuracy: 0.8582 - val_loss: 0.3841 - val_accuracy: 0.8399\n",
      "Epoch 175/250\n",
      "319/319 [==============================] - 1s 4ms/step - loss: 0.3290 - accuracy: 0.8629 - val_loss: 0.3835 - val_accuracy: 0.8383\n",
      "Epoch 176/250\n",
      "319/319 [==============================] - 1s 4ms/step - loss: 0.3289 - accuracy: 0.8661 - val_loss: 0.3852 - val_accuracy: 0.8407\n",
      "Epoch 177/250\n",
      "319/319 [==============================] - 1s 5ms/step - loss: 0.3267 - accuracy: 0.8649 - val_loss: 0.3842 - val_accuracy: 0.8371\n",
      "Epoch 178/250\n",
      "319/319 [==============================] - 1s 5ms/step - loss: 0.3275 - accuracy: 0.8620 - val_loss: 0.3965 - val_accuracy: 0.8336\n",
      "Epoch 179/250\n",
      "319/319 [==============================] - 1s 4ms/step - loss: 0.3339 - accuracy: 0.8591 - val_loss: 0.3973 - val_accuracy: 0.8352\n",
      "Epoch 180/250\n",
      "319/319 [==============================] - 1s 4ms/step - loss: 0.3264 - accuracy: 0.8665 - val_loss: 0.3839 - val_accuracy: 0.8434\n",
      "Epoch 181/250\n",
      "319/319 [==============================] - 1s 4ms/step - loss: 0.3292 - accuracy: 0.8625 - val_loss: 0.3976 - val_accuracy: 0.8344\n",
      "Epoch 182/250\n",
      "319/319 [==============================] - 1s 4ms/step - loss: 0.3301 - accuracy: 0.8630 - val_loss: 0.3828 - val_accuracy: 0.8473\n",
      "Epoch 183/250\n",
      "319/319 [==============================] - 1s 4ms/step - loss: 0.3350 - accuracy: 0.8624 - val_loss: 0.3888 - val_accuracy: 0.8422\n",
      "Epoch 184/250\n",
      "319/319 [==============================] - 1s 4ms/step - loss: 0.3282 - accuracy: 0.8657 - val_loss: 0.3793 - val_accuracy: 0.8438\n",
      "Epoch 185/250\n",
      "319/319 [==============================] - 1s 4ms/step - loss: 0.3310 - accuracy: 0.8631 - val_loss: 0.4005 - val_accuracy: 0.8281\n",
      "Epoch 186/250\n",
      "319/319 [==============================] - 1s 4ms/step - loss: 0.3204 - accuracy: 0.8668 - val_loss: 0.3931 - val_accuracy: 0.8383\n",
      "Epoch 187/250\n",
      "319/319 [==============================] - 1s 4ms/step - loss: 0.3290 - accuracy: 0.8626 - val_loss: 0.3996 - val_accuracy: 0.8320\n",
      "Epoch 188/250\n",
      "319/319 [==============================] - 1s 4ms/step - loss: 0.3365 - accuracy: 0.8610 - val_loss: 0.3905 - val_accuracy: 0.8387\n",
      "Epoch 189/250\n",
      "319/319 [==============================] - 1s 4ms/step - loss: 0.3240 - accuracy: 0.8659 - val_loss: 0.3771 - val_accuracy: 0.8434\n",
      "Epoch 190/250\n",
      "319/319 [==============================] - 1s 4ms/step - loss: 0.3228 - accuracy: 0.8664 - val_loss: 0.3919 - val_accuracy: 0.8371\n",
      "Epoch 191/250\n",
      "319/319 [==============================] - 1s 4ms/step - loss: 0.3275 - accuracy: 0.8646 - val_loss: 0.3893 - val_accuracy: 0.8359\n",
      "Epoch 192/250\n",
      "319/319 [==============================] - 2s 5ms/step - loss: 0.3307 - accuracy: 0.8664 - val_loss: 0.3867 - val_accuracy: 0.8352\n",
      "Epoch 193/250\n",
      "319/319 [==============================] - 1s 5ms/step - loss: 0.3311 - accuracy: 0.8609 - val_loss: 0.3792 - val_accuracy: 0.8458\n",
      "Epoch 194/250\n",
      "319/319 [==============================] - 1s 4ms/step - loss: 0.3322 - accuracy: 0.8623 - val_loss: 0.3931 - val_accuracy: 0.8324\n",
      "Epoch 195/250\n",
      "319/319 [==============================] - 2s 5ms/step - loss: 0.3321 - accuracy: 0.8622 - val_loss: 0.3910 - val_accuracy: 0.8383\n",
      "Epoch 196/250\n",
      "319/319 [==============================] - 1s 4ms/step - loss: 0.3227 - accuracy: 0.8648 - val_loss: 0.3817 - val_accuracy: 0.8403\n",
      "Epoch 197/250\n",
      "319/319 [==============================] - 1s 4ms/step - loss: 0.3284 - accuracy: 0.8619 - val_loss: 0.3912 - val_accuracy: 0.8367\n",
      "Epoch 198/250\n",
      "319/319 [==============================] - 1s 4ms/step - loss: 0.3233 - accuracy: 0.8660 - val_loss: 0.3878 - val_accuracy: 0.8414\n",
      "Epoch 199/250\n",
      "319/319 [==============================] - 1s 4ms/step - loss: 0.3261 - accuracy: 0.8673 - val_loss: 0.3849 - val_accuracy: 0.8387\n",
      "Epoch 200/250\n",
      "319/319 [==============================] - 2s 5ms/step - loss: 0.3317 - accuracy: 0.8629 - val_loss: 0.3892 - val_accuracy: 0.8379\n",
      "Epoch 201/250\n",
      "319/319 [==============================] - 1s 4ms/step - loss: 0.3270 - accuracy: 0.8606 - val_loss: 0.3858 - val_accuracy: 0.8411\n",
      "Epoch 202/250\n",
      "319/319 [==============================] - 1s 4ms/step - loss: 0.3263 - accuracy: 0.8636 - val_loss: 0.3814 - val_accuracy: 0.8418\n",
      "Epoch 203/250\n",
      "319/319 [==============================] - 1s 4ms/step - loss: 0.3259 - accuracy: 0.8665 - val_loss: 0.3826 - val_accuracy: 0.8418\n",
      "Epoch 204/250\n",
      "319/319 [==============================] - 1s 4ms/step - loss: 0.3243 - accuracy: 0.8652 - val_loss: 0.3879 - val_accuracy: 0.8348\n",
      "Epoch 205/250\n",
      "319/319 [==============================] - 1s 4ms/step - loss: 0.3296 - accuracy: 0.8586 - val_loss: 0.3853 - val_accuracy: 0.8371\n",
      "Epoch 206/250\n",
      "319/319 [==============================] - 1s 4ms/step - loss: 0.3246 - accuracy: 0.8660 - val_loss: 0.3802 - val_accuracy: 0.8375\n",
      "Epoch 207/250\n",
      "319/319 [==============================] - 2s 5ms/step - loss: 0.3266 - accuracy: 0.8623 - val_loss: 0.3690 - val_accuracy: 0.8442\n",
      "Epoch 208/250\n",
      "319/319 [==============================] - 1s 4ms/step - loss: 0.3308 - accuracy: 0.8631 - val_loss: 0.3779 - val_accuracy: 0.8395\n",
      "Epoch 209/250\n",
      "319/319 [==============================] - 1s 5ms/step - loss: 0.3267 - accuracy: 0.8643 - val_loss: 0.3810 - val_accuracy: 0.8395\n",
      "Epoch 210/250\n",
      "319/319 [==============================] - 1s 4ms/step - loss: 0.3264 - accuracy: 0.8597 - val_loss: 0.3713 - val_accuracy: 0.8454\n",
      "Epoch 211/250\n",
      "319/319 [==============================] - 1s 4ms/step - loss: 0.3357 - accuracy: 0.8585 - val_loss: 0.3717 - val_accuracy: 0.8411\n",
      "Epoch 212/250\n",
      "319/319 [==============================] - 1s 4ms/step - loss: 0.3232 - accuracy: 0.8630 - val_loss: 0.3818 - val_accuracy: 0.8387\n",
      "Epoch 213/250\n",
      "319/319 [==============================] - 2s 5ms/step - loss: 0.3276 - accuracy: 0.8602 - val_loss: 0.3812 - val_accuracy: 0.8399\n",
      "Epoch 214/250\n",
      "319/319 [==============================] - 2s 5ms/step - loss: 0.3237 - accuracy: 0.8639 - val_loss: 0.3861 - val_accuracy: 0.8383\n",
      "Epoch 215/250\n",
      "319/319 [==============================] - 2s 5ms/step - loss: 0.3291 - accuracy: 0.8631 - val_loss: 0.3792 - val_accuracy: 0.8426\n",
      "Epoch 216/250\n",
      "319/319 [==============================] - 2s 5ms/step - loss: 0.3140 - accuracy: 0.8657 - val_loss: 0.3858 - val_accuracy: 0.8387\n",
      "Epoch 217/250\n",
      "319/319 [==============================] - 1s 5ms/step - loss: 0.3173 - accuracy: 0.8692 - val_loss: 0.3954 - val_accuracy: 0.8273\n",
      "Epoch 218/250\n",
      "319/319 [==============================] - 1s 5ms/step - loss: 0.3255 - accuracy: 0.8651 - val_loss: 0.3916 - val_accuracy: 0.8297\n",
      "Epoch 219/250\n",
      "319/319 [==============================] - 1s 5ms/step - loss: 0.3260 - accuracy: 0.8628 - val_loss: 0.3856 - val_accuracy: 0.8356\n",
      "Epoch 220/250\n",
      "319/319 [==============================] - 2s 5ms/step - loss: 0.3239 - accuracy: 0.8643 - val_loss: 0.3782 - val_accuracy: 0.8418\n",
      "Epoch 221/250\n",
      "319/319 [==============================] - 2s 5ms/step - loss: 0.3233 - accuracy: 0.8643 - val_loss: 0.3649 - val_accuracy: 0.8462\n",
      "Epoch 222/250\n",
      "319/319 [==============================] - 1s 5ms/step - loss: 0.3199 - accuracy: 0.8683 - val_loss: 0.3754 - val_accuracy: 0.8422\n",
      "Epoch 223/250\n",
      "319/319 [==============================] - 1s 4ms/step - loss: 0.3272 - accuracy: 0.8642 - val_loss: 0.3722 - val_accuracy: 0.8442\n",
      "Epoch 224/250\n",
      "319/319 [==============================] - 2s 5ms/step - loss: 0.3260 - accuracy: 0.8649 - val_loss: 0.3756 - val_accuracy: 0.8379\n",
      "Epoch 225/250\n",
      "319/319 [==============================] - 2s 5ms/step - loss: 0.3228 - accuracy: 0.8665 - val_loss: 0.3699 - val_accuracy: 0.8418\n",
      "Epoch 226/250\n",
      "319/319 [==============================] - 2s 5ms/step - loss: 0.3239 - accuracy: 0.8632 - val_loss: 0.3850 - val_accuracy: 0.8379\n",
      "Epoch 227/250\n",
      "319/319 [==============================] - 2s 5ms/step - loss: 0.3219 - accuracy: 0.8676 - val_loss: 0.3873 - val_accuracy: 0.8399\n",
      "Epoch 228/250\n",
      "319/319 [==============================] - 1s 5ms/step - loss: 0.3184 - accuracy: 0.8701 - val_loss: 0.3954 - val_accuracy: 0.8367\n",
      "Epoch 229/250\n",
      "319/319 [==============================] - 2s 5ms/step - loss: 0.3189 - accuracy: 0.8681 - val_loss: 0.3786 - val_accuracy: 0.8414\n",
      "Epoch 230/250\n",
      "319/319 [==============================] - 1s 4ms/step - loss: 0.3185 - accuracy: 0.8709 - val_loss: 0.3850 - val_accuracy: 0.8363\n",
      "Epoch 231/250\n",
      "319/319 [==============================] - 1s 4ms/step - loss: 0.3293 - accuracy: 0.8612 - val_loss: 0.3878 - val_accuracy: 0.8379\n",
      "Epoch 232/250\n",
      "319/319 [==============================] - 1s 4ms/step - loss: 0.3226 - accuracy: 0.8607 - val_loss: 0.3780 - val_accuracy: 0.8469\n",
      "Epoch 233/250\n",
      "319/319 [==============================] - 1s 4ms/step - loss: 0.3261 - accuracy: 0.8648 - val_loss: 0.3815 - val_accuracy: 0.8411\n",
      "Epoch 234/250\n",
      "319/319 [==============================] - 1s 4ms/step - loss: 0.3242 - accuracy: 0.8656 - val_loss: 0.3792 - val_accuracy: 0.8391\n",
      "Epoch 235/250\n",
      "319/319 [==============================] - 2s 5ms/step - loss: 0.3179 - accuracy: 0.8684 - val_loss: 0.3835 - val_accuracy: 0.8407\n",
      "Epoch 236/250\n",
      "319/319 [==============================] - 2s 5ms/step - loss: 0.3257 - accuracy: 0.8618 - val_loss: 0.3859 - val_accuracy: 0.8407\n",
      "Epoch 237/250\n",
      "319/319 [==============================] - 1s 5ms/step - loss: 0.3262 - accuracy: 0.8637 - val_loss: 0.3828 - val_accuracy: 0.8371\n",
      "Epoch 238/250\n",
      "319/319 [==============================] - 2s 5ms/step - loss: 0.3168 - accuracy: 0.8678 - val_loss: 0.3777 - val_accuracy: 0.8407\n",
      "Epoch 239/250\n",
      "319/319 [==============================] - 1s 5ms/step - loss: 0.3168 - accuracy: 0.8661 - val_loss: 0.3807 - val_accuracy: 0.8387\n",
      "Epoch 240/250\n",
      "319/319 [==============================] - 1s 5ms/step - loss: 0.3221 - accuracy: 0.8638 - val_loss: 0.3975 - val_accuracy: 0.8340\n",
      "Epoch 241/250\n",
      "319/319 [==============================] - 1s 5ms/step - loss: 0.3222 - accuracy: 0.8656 - val_loss: 0.3933 - val_accuracy: 0.8297\n",
      "Epoch 242/250\n",
      "319/319 [==============================] - 1s 4ms/step - loss: 0.3214 - accuracy: 0.8647 - val_loss: 0.3929 - val_accuracy: 0.8277\n",
      "Epoch 243/250\n",
      "319/319 [==============================] - 1s 4ms/step - loss: 0.3189 - accuracy: 0.8680 - val_loss: 0.3807 - val_accuracy: 0.8344\n",
      "Epoch 244/250\n",
      "319/319 [==============================] - 2s 5ms/step - loss: 0.3154 - accuracy: 0.8668 - val_loss: 0.3819 - val_accuracy: 0.8418\n",
      "Epoch 245/250\n",
      "319/319 [==============================] - 1s 4ms/step - loss: 0.3247 - accuracy: 0.8649 - val_loss: 0.3816 - val_accuracy: 0.8465\n",
      "Epoch 246/250\n",
      "319/319 [==============================] - 1s 4ms/step - loss: 0.3240 - accuracy: 0.8645 - val_loss: 0.3855 - val_accuracy: 0.8387\n",
      "Epoch 247/250\n",
      "319/319 [==============================] - 1s 5ms/step - loss: 0.3287 - accuracy: 0.8644 - val_loss: 0.3741 - val_accuracy: 0.8411\n",
      "Epoch 248/250\n",
      "319/319 [==============================] - 1s 4ms/step - loss: 0.3236 - accuracy: 0.8671 - val_loss: 0.3896 - val_accuracy: 0.8395\n",
      "Epoch 249/250\n",
      "319/319 [==============================] - 2s 5ms/step - loss: 0.3167 - accuracy: 0.8713 - val_loss: 0.3797 - val_accuracy: 0.8442\n",
      "Epoch 250/250\n",
      "319/319 [==============================] - 1s 4ms/step - loss: 0.3236 - accuracy: 0.8635 - val_loss: 0.3863 - val_accuracy: 0.8340\n"
     ]
    }
   ],
   "source": [
    "history = model.fit(xTrain,yTrain,epochs=250,validation_split = 0.2)"
   ]
  },
  {
   "cell_type": "code",
   "execution_count": null,
   "metadata": {
    "colab": {
     "base_uri": "https://localhost:8080/",
     "height": 265
    },
    "id": "qxtu5Lho_zMI",
    "outputId": "746d639d-383a-4ad1-aa7d-4961a70b3995"
   },
   "outputs": [
    {
     "data": {
      "image/png": "[encoded data removed]",
      "text/plain": [
       "<Figure size 432x288 with 1 Axes>"
      ]
     },
     "metadata": {
      "needs_background": "light"
     },
     "output_type": "display_data"
    }
   ],
   "source": [
    "plt.plot(history.history['loss'], label='train')\n",
    "plt.plot(history.history['val_loss'], label='test')\n",
    "plt.legend()\n",
    "plt.show()"
   ]
  },
  {
   "cell_type": "code",
   "execution_count": null,
   "metadata": {
    "colab": {
     "base_uri": "https://localhost:8080/"
    },
    "id": "O8qFGqJkT8jM",
    "outputId": "d25f1024-8e80-4e7e-d86a-31eb5dd292e7"
   },
   "outputs": [
    {
     "name": "stdout",
     "output_type": "stream",
     "text": [
      "\n",
      "val_accuracy: 82.73%\n"
     ]
    }
   ],
   "source": [
    "val_accuracy = np.mean(history.history['val_accuracy'])\n",
    "print(\"\\n%s: %.2f%%\" % ('val_accuracy', val_accuracy*100))"
   ]
  },
  {
   "cell_type": "code",
   "execution_count": null,
   "metadata": {
    "colab": {
     "base_uri": "https://localhost:8080/",
     "height": 265
    },
    "id": "FqUpQGDbUJde",
    "outputId": "b4158ea2-823f-405d-d001-2f172b6dd2c4"
   },
   "outputs": [
    {
     "data": {
      "image/png": "[encoded data removed]",
      "text/plain": [
       "<Figure size 432x288 with 1 Axes>"
      ]
     },
     "metadata": {
      "needs_background": "light"
     },
     "output_type": "display_data"
    }
   ],
   "source": [
    "plt.plot(history.history['accuracy'], label='train')\n",
    "plt.plot(history.history['val_accuracy'], label='test')\n",
    "plt.legend()\n",
    "plt.show()"
   ]
  },
  {
   "cell_type": "code",
   "execution_count": null,
   "metadata": {
    "colab": {
     "base_uri": "https://localhost:8080/"
    },
    "id": "8hMD3I1fUWWo",
    "outputId": "a1497b00-a0a1-4498-aa4b-25301ab2927c"
   },
   "outputs": [
    {
     "name": "stdout",
     "output_type": "stream",
     "text": [
      "\n",
      "accuracy: 84.66%\n"
     ]
    }
   ],
   "source": [
    "val_accuracy = np.mean(history.history['accuracy'])\n",
    "print(\"\\n%s: %.2f%%\" % ('accuracy', val_accuracy*100))"
   ]
  },
  {
   "cell_type": "code",
   "execution_count": null,
   "metadata": {
    "colab": {
     "base_uri": "https://localhost:8080/"
    },
    "id": "Cul3CHCYUapS",
    "outputId": "d71186ab-d839-4032-a761-cdb5cb9dd5b1"
   },
   "outputs": [
    {
     "data": {
      "text/plain": [
       "[['Logistic Regression', 71.5],\n",
       " ['Decision Tree', 90.05],\n",
       " ['Random Forest', 94.82],\n",
       " ['ANN', 84.66]]"
      ]
     },
     "execution_count": 58,
     "metadata": {},
     "output_type": "execute_result"
    }
   ],
   "source": [
    "ScoreList = [['Logistic Regression', round(logScore*100,2)],\n",
    "         ['Decision Tree', round(decisionScore*100,2)],\n",
    "         ['Random Forest', round(randomScore*100,2)],\n",
    "         ['ANN', round(val_accuracy*100,2)]]\n",
    "\n",
    "ScoreList"
   ]
  },
  {
   "cell_type": "code",
   "execution_count": null,
   "metadata": {
    "id": "6i2xwfP1VhYD"
   },
   "outputs": [],
   "source": [
    "Scores = pd.DataFrame(ScoreList, columns=['Algorithms', 'Score'])"
   ]
  },
  {
   "cell_type": "code",
   "execution_count": null,
   "metadata": {
    "colab": {
     "base_uri": "https://localhost:8080/",
     "height": 173
    },
    "id": "I8rmBUyzV0lQ",
    "outputId": "355a51d4-4e9d-4620-a7ce-fca3ecf899bd"
   },
   "outputs": [
    {
     "data": {
      "text/html": [
       "\n",
       "  <div id=\"df-cf00ae33-cb0f-4cce-98e4-d87b7d17bff2\">\n",
       "    <div class=\"colab-df-container\">\n",
       "      <div>\n",
       "<style scoped>\n",
       "    .dataframe tbody tr th:only-of-type {\n",
       "        vertical-align: middle;\n",
       "    }\n",
       "\n",
       "    .dataframe tbody tr th {\n",
       "        vertical-align: top;\n",
       "    }\n",
       "\n",
       "    .dataframe thead th {\n",
       "        text-align: right;\n",
       "    }\n",
       "</style>\n",
       "<table border=\"1\" class=\"dataframe\">\n",
       "  <thead>\n",
       "    <tr style=\"text-align: right;\">\n",
       "      <th></th>\n",
       "      <th>Algorithms</th>\n",
       "      <th>Score</th>\n",
       "    </tr>\n",
       "  </thead>\n",
       "  <tbody>\n",
       "    <tr>\n",
       "      <th>0</th>\n",
       "      <td>Logistic Regression</td>\n",
       "      <td>71.50</td>\n",
       "    </tr>\n",
       "    <tr>\n",
       "      <th>1</th>\n",
       "      <td>Decision Tree</td>\n",
       "      <td>90.05</td>\n",
       "    </tr>\n",
       "    <tr>\n",
       "      <th>2</th>\n",
       "      <td>Random Forest</td>\n",
       "      <td>94.82</td>\n",
       "    </tr>\n",
       "    <tr>\n",
       "      <th>3</th>\n",
       "      <td>ANN</td>\n",
       "      <td>84.66</td>\n",
       "    </tr>\n",
       "  </tbody>\n",
       "</table>\n",
       "</div>\n",
       "      <button class=\"colab-df-convert\" onclick=\"convertToInteractive('df-cf00ae33-cb0f-4cce-98e4-d87b7d17bff2')\"\n",
       "              title=\"Convert this dataframe to an interactive table.\"\n",
       "              style=\"display:none;\">\n",
       "        \n",
       "  <svg xmlns=\"http://www.w3.org/2000/svg\" height=\"24px\"viewBox=\"0 0 24 24\"\n",
       "       width=\"24px\">\n",
       "    <path d=\"M0 0h24v24H0V0z\" fill=\"none\"/>\n",
       "    <path d=\"M18.56 5.44l.94 2.06.94-2.06 2.06-.94-2.06-.94-.94-2.06-.94 2.06-2.06.94zm-11 1L8.5 8.5l.94-2.06 2.06-.94-2.06-.94L8.5 2.5l-.94 2.06-2.06.94zm10 10l.94 2.06.94-2.06 2.06-.94-2.06-.94-.94-2.06-.94 2.06-2.06.94z\"/><path d=\"M17.41 7.96l-1.37-1.37c-.4-.4-.92-.59-1.43-.59-.52 0-1.04.2-1.43.59L10.3 9.45l-7.72 7.72c-.78.78-.78 2.05 0 2.83L4 21.41c.39.39.9.59 1.41.59.51 0 1.02-.2 1.41-.59l7.78-7.78 2.81-2.81c.8-.78.8-2.07 0-2.86zM5.41 20L4 18.59l7.72-7.72 1.47 1.35L5.41 20z\"/>\n",
       "  </svg>\n",
       "      </button>\n",
       "      \n",
       "  <style>\n",
       "    .colab-df-container {\n",
       "      display:flex;\n",
       "      flex-wrap:wrap;\n",
       "      gap: 12px;\n",
       "    }\n",
       "\n",
       "    .colab-df-convert {\n",
       "      background-color: #E8F0FE;\n",
       "      border: none;\n",
       "      border-radius: 50%;\n",
       "      cursor: pointer;\n",
       "      display: none;\n",
       "      fill: #1967D2;\n",
       "      height: 32px;\n",
       "      padding: 0 0 0 0;\n",
       "      width: 32px;\n",
       "    }\n",
       "\n",
       "    .colab-df-convert:hover {\n",
       "      background-color: #E2EBFA;\n",
       "      box-shadow: 0px 1px 2px rgba(60, 64, 67, 0.3), 0px 1px 3px 1px rgba(60, 64, 67, 0.15);\n",
       "      fill: #174EA6;\n",
       "    }\n",
       "\n",
       "    [theme=dark] .colab-df-convert {\n",
       "      background-color: #3B4455;\n",
       "      fill: #D2E3FC;\n",
       "    }\n",
       "\n",
       "    [theme=dark] .colab-df-convert:hover {\n",
       "      background-color: #434B5C;\n",
       "      box-shadow: 0px 1px 3px 1px rgba(0, 0, 0, 0.15);\n",
       "      filter: drop-shadow(0px 1px 2px rgba(0, 0, 0, 0.3));\n",
       "      fill: #FFFFFF;\n",
       "    }\n",
       "  </style>\n",
       "\n",
       "      <script>\n",
       "        const buttonEl =\n",
       "          document.querySelector('#df-cf00ae33-cb0f-4cce-98e4-d87b7d17bff2 button.colab-df-convert');\n",
       "        buttonEl.style.display =\n",
       "          google.colab.kernel.accessAllowed ? 'block' : 'none';\n",
       "\n",
       "        async function convertToInteractive(key) {\n",
       "          const element = document.querySelector('#df-cf00ae33-cb0f-4cce-98e4-d87b7d17bff2');\n",
       "          const dataTable =\n",
       "            await google.colab.kernel.invokeFunction('convertToInteractive',\n",
       "                                                     [key], {});\n",
       "          if (!dataTable) return;\n",
       "\n",
       "          const docLinkHtml = 'Like what you see? Visit the ' +\n",
       "            '<a target=\"_blank\" href=https://colab.research.google.com/notebooks/data_table.ipynb>data table notebook</a>'\n",
       "            + ' to learn more about interactive tables.';\n",
       "          element.innerHTML = '';\n",
       "          dataTable['output_type'] = 'display_data';\n",
       "          await google.colab.output.renderOutput(dataTable, element);\n",
       "          const docLink = document.createElement('div');\n",
       "          docLink.innerHTML = docLinkHtml;\n",
       "          element.appendChild(docLink);\n",
       "        }\n",
       "      </script>\n",
       "    </div>\n",
       "  </div>\n",
       "  "
      ],
      "text/plain": [
       "            Algorithms  Score\n",
       "0  Logistic Regression  71.50\n",
       "1        Decision Tree  90.05\n",
       "2        Random Forest  94.82\n",
       "3                  ANN  84.66"
      ]
     },
     "metadata": {},
     "output_type": "display_data"
    }
   ],
   "source": [
    "display(Scores)"
   ]
  },
  {
   "cell_type": "markdown",
   "metadata": {
    "id": "Hs-hk1rXV9i8"
   },
   "source": [
    "We can see that in Random Forest, we are getting maximum accuracy with optimised parameters.\n"
   ]
  },
  {
   "cell_type": "code",
   "execution_count": null,
   "metadata": {
    "id": "6-Jdu7iLV69C"
   },
   "outputs": [],
   "source": []
  }
 ],
 "metadata": {
  "accelerator": "GPU",
  "colab": {
   "provenance": []
  },
  "gpuClass": "standard",
  "kernelspec": {
   "display_name": "Python 3 (ipykernel)",
   "language": "python",
   "name": "python3"
  },
  "language_info": {
   "codemirror_mode": {
    "name": "ipython",
    "version": 3
   },
   "file_extension": ".py",
   "mimetype": "text/x-python",
   "name": "python",
   "nbconvert_exporter": "python",
   "pygments_lexer": "ipython3",
   "version": "3.9.13"
  }
 },
 "nbformat": 4,
 "nbformat_minor": 1
}
